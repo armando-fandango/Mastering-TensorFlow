{
 "cells": [
  {
   "cell_type": "markdown",
   "metadata": {
    "toc": true
   },
   "source": [
    "<h1>Table of Contents<span class=\"tocSkip\"></span></h1>\n",
    "<div class=\"toc\"><ul class=\"toc-item\"><li><span><a href=\"#Install-TensorFlow-2.0-alpha\" data-toc-modified-id=\"Install-TensorFlow-2.0-alpha-1\"><span class=\"toc-item-num\">1&nbsp;&nbsp;</span>Install TensorFlow 2.0 alpha</a></span></li><li><span><a href=\"#Import-TensorFlow-and-Keras\" data-toc-modified-id=\"Import-TensorFlow-and-Keras-2\"><span class=\"toc-item-num\">2&nbsp;&nbsp;</span>Import TensorFlow and Keras</a></span></li><li><span><a href=\"#Check-available-compute-devices\" data-toc-modified-id=\"Check-available-compute-devices-3\"><span class=\"toc-item-num\">3&nbsp;&nbsp;</span>Check available compute devices</a></span></li><li><span><a href=\"#Set-the-device-placement-in-logs---visible-in-jupyter-console\" data-toc-modified-id=\"Set-the-device-placement-in-logs---visible-in-jupyter-console-4\"><span class=\"toc-item-num\">4&nbsp;&nbsp;</span>Set the device placement in logs - visible in jupyter console</a></span></li><li><span><a href=\"#Observe-default-placement\" data-toc-modified-id=\"Observe-default-placement-5\"><span class=\"toc-item-num\">5&nbsp;&nbsp;</span>Observe default placement</a></span></li><li><span><a href=\"#Place-on-GPU\" data-toc-modified-id=\"Place-on-GPU-6\"><span class=\"toc-item-num\">6&nbsp;&nbsp;</span>Place on GPU</a></span></li><li><span><a href=\"#Place-on-CPU\" data-toc-modified-id=\"Place-on-CPU-7\"><span class=\"toc-item-num\">7&nbsp;&nbsp;</span>Place on CPU</a></span></li><li><span><a href=\"#Safely-place-on-GPU\" data-toc-modified-id=\"Safely-place-on-GPU-8\"><span class=\"toc-item-num\">8&nbsp;&nbsp;</span>Safely place on GPU</a></span></li></ul></div>"
   ]
  },
  {
   "cell_type": "markdown",
   "metadata": {},
   "source": [
    "# TensorFlow and Keras 101 <a class=\"tocSkip\">"
   ]
  },
  {
   "cell_type": "code",
   "execution_count": 1,
   "metadata": {},
   "outputs": [],
   "source": [
    "# Imports to make notebook compatible with Python 2\n",
    "from __future__ import absolute_import, division, print_function, unicode_literals"
   ]
  },
  {
   "cell_type": "markdown",
   "metadata": {},
   "source": [
    "# Install TensorFlow 2.0 alpha"
   ]
  },
  {
   "cell_type": "code",
   "execution_count": 2,
   "metadata": {},
   "outputs": [
    {
     "name": "stdout",
     "output_type": "stream",
     "text": [
      "Requirement already satisfied: tensorflow-gpu==2.0.0-alpha0 in /opt/anaconda3/lib/python3.6/site-packages (2.0.0a0)\n",
      "Requirement already satisfied: wheel>=0.26 in /opt/anaconda3/lib/python3.6/site-packages (from tensorflow-gpu==2.0.0-alpha0) (0.32.3)\n",
      "Requirement already satisfied: astor>=0.6.0 in /opt/anaconda3/lib/python3.6/site-packages (from tensorflow-gpu==2.0.0-alpha0) (0.7.1)\n",
      "Requirement already satisfied: keras-applications>=1.0.6 in /opt/anaconda3/lib/python3.6/site-packages (from tensorflow-gpu==2.0.0-alpha0) (1.0.7)\n",
      "Requirement already satisfied: grpcio>=1.8.6 in /opt/anaconda3/lib/python3.6/site-packages (from tensorflow-gpu==2.0.0-alpha0) (1.12.1)\n",
      "Requirement already satisfied: tf-estimator-nightly<1.14.0.dev2019030116,>=1.14.0.dev2019030115 in /opt/anaconda3/lib/python3.6/site-packages (from tensorflow-gpu==2.0.0-alpha0) (1.14.0.dev2019030115)\n",
      "Requirement already satisfied: termcolor>=1.1.0 in /opt/anaconda3/lib/python3.6/site-packages (from tensorflow-gpu==2.0.0-alpha0) (1.1.0)\n",
      "Requirement already satisfied: protobuf>=3.6.1 in /opt/anaconda3/lib/python3.6/site-packages (from tensorflow-gpu==2.0.0-alpha0) (3.7.1)\n",
      "Requirement already satisfied: six>=1.10.0 in /opt/anaconda3/lib/python3.6/site-packages (from tensorflow-gpu==2.0.0-alpha0) (1.12.0)\n",
      "Requirement already satisfied: tb-nightly<1.14.0a20190302,>=1.14.0a20190301 in /opt/anaconda3/lib/python3.6/site-packages (from tensorflow-gpu==2.0.0-alpha0) (1.14.0a20190301)\n",
      "Requirement already satisfied: keras-preprocessing>=1.0.5 in /opt/anaconda3/lib/python3.6/site-packages (from tensorflow-gpu==2.0.0-alpha0) (1.0.9)\n",
      "Requirement already satisfied: gast>=0.2.0 in /opt/anaconda3/lib/python3.6/site-packages (from tensorflow-gpu==2.0.0-alpha0) (0.2.0)\n",
      "Requirement already satisfied: numpy<2.0,>=1.14.5 in /opt/anaconda3/lib/python3.6/site-packages (from tensorflow-gpu==2.0.0-alpha0) (1.15.4)\n",
      "Requirement already satisfied: google-pasta>=0.1.2 in /opt/anaconda3/lib/python3.6/site-packages (from tensorflow-gpu==2.0.0-alpha0) (0.1.5)\n",
      "Requirement already satisfied: absl-py>=0.7.0 in /opt/anaconda3/lib/python3.6/site-packages (from tensorflow-gpu==2.0.0-alpha0) (0.7.1)\n",
      "Requirement already satisfied: h5py in /opt/anaconda3/lib/python3.6/site-packages (from keras-applications>=1.0.6->tensorflow-gpu==2.0.0-alpha0) (2.8.0)\n",
      "Requirement already satisfied: setuptools in /opt/anaconda3/lib/python3.6/site-packages (from protobuf>=3.6.1->tensorflow-gpu==2.0.0-alpha0) (40.6.3)\n",
      "Requirement already satisfied: markdown>=2.6.8 in /opt/anaconda3/lib/python3.6/site-packages (from tb-nightly<1.14.0a20190302,>=1.14.0a20190301->tensorflow-gpu==2.0.0-alpha0) (2.6.11)\n",
      "Requirement already satisfied: werkzeug>=0.11.15 in /opt/anaconda3/lib/python3.6/site-packages (from tb-nightly<1.14.0a20190302,>=1.14.0a20190301->tensorflow-gpu==2.0.0-alpha0) (0.14.1)\n"
     ]
    }
   ],
   "source": [
    "!pip install tensorflow-gpu==2.0.0-alpha0 "
   ]
  },
  {
   "cell_type": "markdown",
   "metadata": {},
   "source": [
    "# Import TensorFlow and Keras"
   ]
  },
  {
   "cell_type": "code",
   "execution_count": 3,
   "metadata": {},
   "outputs": [],
   "source": [
    "import tensorflow as tf\n",
    "import tensorflow.keras as keras"
   ]
  },
  {
   "cell_type": "code",
   "execution_count": 4,
   "metadata": {},
   "outputs": [],
   "source": [
    "import numpy as np"
   ]
  },
  {
   "cell_type": "markdown",
   "metadata": {},
   "source": [
    "# Check available compute devices"
   ]
  },
  {
   "cell_type": "code",
   "execution_count": 5,
   "metadata": {},
   "outputs": [
    {
     "name": "stdout",
     "output_type": "stream",
     "text": [
      "[name: \"/device:CPU:0\"\n",
      "device_type: \"CPU\"\n",
      "memory_limit: 268435456\n",
      "locality {\n",
      "}\n",
      "incarnation: 197133275586384869\n",
      ", name: \"/device:XLA_GPU:0\"\n",
      "device_type: \"XLA_GPU\"\n",
      "memory_limit: 17179869184\n",
      "locality {\n",
      "}\n",
      "incarnation: 227814228451621092\n",
      "physical_device_desc: \"device: XLA_GPU device\"\n",
      ", name: \"/device:XLA_CPU:0\"\n",
      "device_type: \"XLA_CPU\"\n",
      "memory_limit: 17179869184\n",
      "locality {\n",
      "}\n",
      "incarnation: 12205684360897460308\n",
      "physical_device_desc: \"device: XLA_CPU device\"\n",
      ", name: \"/device:GPU:0\"\n",
      "device_type: \"GPU\"\n",
      "memory_limit: 15588583015\n",
      "locality {\n",
      "  bus_id: 1\n",
      "  links {\n",
      "  }\n",
      "}\n",
      "incarnation: 10515997136820067847\n",
      "physical_device_desc: \"device: 0, name: Quadro P5000, pci bus id: 0000:01:00.0, compute capability: 6.1\"\n",
      "]\n"
     ]
    }
   ],
   "source": [
    "from tensorflow.python.client import device_lib\n",
    "\n",
    "print(device_lib.list_local_devices())"
   ]
  },
  {
   "cell_type": "markdown",
   "metadata": {},
   "source": [
    "# Set the device placement in logs - visible in jupyter console"
   ]
  },
  {
   "cell_type": "code",
   "execution_count": 6,
   "metadata": {},
   "outputs": [],
   "source": [
    "tf.debugging.set_log_device_placement(True)"
   ]
  },
  {
   "cell_type": "markdown",
   "metadata": {},
   "source": [
    "# Observe default placement"
   ]
  },
  {
   "cell_type": "code",
   "execution_count": 7,
   "metadata": {},
   "outputs": [
    {
     "name": "stdout",
     "output_type": "stream",
     "text": [
      "w: <tf.Variable 'w:0' shape=(1,) dtype=float32, numpy=array([0.3], dtype=float32)>\n",
      "b: <tf.Variable 'b:0' shape=(1,) dtype=float32, numpy=array([-0.3], dtype=float32)>\n",
      "x: [1, 2, 3, 4]\n",
      "y: tf.Tensor([0.         0.3        0.6        0.90000004], shape=(4,), dtype=float32)\n"
     ]
    }
   ],
   "source": [
    "w = tf.Variable([.3], dtype=tf.float32,name='w')\n",
    "b = tf.Variable([-.3], dtype=tf.float32,name='b')\n",
    "    \n",
    "@tf.function\n",
    "def linear(x):\n",
    "    return w * x + b\n",
    "\n",
    "x = [1,2,3,4]\n",
    "\n",
    "y=linear(x)\n",
    "\n",
    "print(\"w:\", w)\n",
    "print(\"b:\", b)\n",
    "print(\"x:\", x)\n",
    "print(\"y:\", y)"
   ]
  },
  {
   "cell_type": "markdown",
   "metadata": {},
   "source": [
    "# Place on GPU"
   ]
  },
  {
   "cell_type": "code",
   "execution_count": 8,
   "metadata": {},
   "outputs": [
    {
     "name": "stdout",
     "output_type": "stream",
     "text": [
      "w: <tf.Variable 'w:0' shape=(1,) dtype=float32, numpy=array([0.3], dtype=float32)>\n",
      "b: <tf.Variable 'b:0' shape=(1,) dtype=float32, numpy=array([-0.3], dtype=float32)>\n",
      "x: [1, 2, 3, 4]\n",
      "y: tf.Tensor([0.         0.3        0.6        0.90000004], shape=(4,), dtype=float32)\n"
     ]
    }
   ],
   "source": [
    "with tf.device('/gpu:0'):\n",
    "    w = tf.Variable([.3], dtype=tf.float32,name='w')\n",
    "    b = tf.Variable([-.3], dtype=tf.float32,name='b')\n",
    "    \n",
    "@tf.function\n",
    "def linear(x):\n",
    "    return w * x + b\n",
    "\n",
    "x = [1,2,3,4]\n",
    "\n",
    "y=linear(x)\n",
    "\n",
    "print(\"w:\", w)\n",
    "print(\"b:\", b)\n",
    "print(\"x:\", x)\n",
    "print(\"y:\", y)"
   ]
  },
  {
   "cell_type": "markdown",
   "metadata": {},
   "source": [
    "# Place on CPU"
   ]
  },
  {
   "cell_type": "code",
   "execution_count": 9,
   "metadata": {},
   "outputs": [
    {
     "name": "stdout",
     "output_type": "stream",
     "text": [
      "w: <tf.Variable 'w:0' shape=(1,) dtype=float32, numpy=array([0.3], dtype=float32)>\n",
      "b: <tf.Variable 'b:0' shape=(1,) dtype=float32, numpy=array([-0.3], dtype=float32)>\n",
      "x: [1, 2, 3, 4]\n",
      "y: tf.Tensor([0.         0.3        0.6        0.90000004], shape=(4,), dtype=float32)\n"
     ]
    }
   ],
   "source": [
    "with tf.device('/cpu:0'):\n",
    "    w = tf.Variable([.3], dtype=tf.float32,name='w')\n",
    "    b = tf.Variable([-.3], dtype=tf.float32,name='b')\n",
    "    \n",
    "@tf.function\n",
    "def linear(x):\n",
    "    return w * x + b\n",
    "\n",
    "x = [1,2,3,4]\n",
    "\n",
    "y=linear(x)\n",
    "\n",
    "print(\"w:\", w)\n",
    "print(\"b:\", b)\n",
    "print(\"x:\", x)\n",
    "print(\"y:\", y)"
   ]
  },
  {
   "cell_type": "markdown",
   "metadata": {},
   "source": [
    "# Safely place on GPU"
   ]
  },
  {
   "cell_type": "code",
   "execution_count": 11,
   "metadata": {},
   "outputs": [
    {
     "name": "stdout",
     "output_type": "stream",
     "text": [
      "Tensors on device  /device:GPU:0\n",
      "w: <tf.Variable 'w:0' shape=(1,) dtype=float32, numpy=array([0.3], dtype=float32)>\n",
      "b: <tf.Variable 'b:0' shape=(1,) dtype=float32, numpy=array([-0.3], dtype=float32)>\n",
      "x: [1, 2, 3, 4]\n",
      "y: tf.Tensor([0.         0.3        0.6        0.90000004], shape=(4,), dtype=float32)\n"
     ]
    }
   ],
   "source": [
    "if tf.test.is_gpu_available():\n",
    "    device = tf.test.gpu_device_name()\n",
    "else:\n",
    "    device = '/cpu:0'\n",
    "\n",
    "print('Tensors on device ',device)\n",
    "with tf.device(device):\n",
    "    w = tf.Variable([.3], dtype=tf.float32,name='w')\n",
    "    b = tf.Variable([-.3], dtype=tf.float32,name='b')\n",
    "    \n",
    "@tf.function\n",
    "def linear(x):\n",
    "    return w * x + b\n",
    "\n",
    "x = [1,2,3,4]\n",
    "\n",
    "y=linear(x)\n",
    "\n",
    "print(\"w:\", w)\n",
    "print(\"b:\", b)\n",
    "print(\"x:\", x)\n",
    "print(\"y:\", y)"
   ]
  },
  {
   "cell_type": "code",
   "execution_count": null,
   "metadata": {},
   "outputs": [],
   "source": []
  }
 ],
 "metadata": {
  "kernelspec": {
   "display_name": "Python 3",
   "language": "python",
   "name": "python3"
  },
  "language_info": {
   "codemirror_mode": {
    "name": "ipython",
    "version": 3
   },
   "file_extension": ".py",
   "mimetype": "text/x-python",
   "name": "python",
   "nbconvert_exporter": "python",
   "pygments_lexer": "ipython3",
   "version": "3.6.7"
  },
  "toc": {
   "base_numbering": 1,
   "nav_menu": {
    "height": "306px",
    "width": "240px"
   },
   "number_sections": true,
   "sideBar": true,
   "skip_h1_title": false,
   "title_cell": "Table of Contents",
   "title_sidebar": "Contents",
   "toc_cell": true,
   "toc_position": {},
   "toc_section_display": "block",
   "toc_window_display": true
  }
 },
 "nbformat": 4,
 "nbformat_minor": 2
}
