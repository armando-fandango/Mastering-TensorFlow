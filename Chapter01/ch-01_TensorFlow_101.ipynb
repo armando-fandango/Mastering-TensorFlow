{
 "cells": [
  {
   "cell_type": "markdown",
   "metadata": {
    "toc": true
   },
   "source": [
    "<h1>Table of Contents<span class=\"tocSkip\"></span></h1>\n",
    "<div class=\"toc\"><ul class=\"toc-item\"><li><span><a href=\"#Get-an-Interactive-TensorFlow-Session\" data-toc-modified-id=\"Get-an-Interactive-TensorFlow-Session-1\"><span class=\"toc-item-num\">1&nbsp;&nbsp;</span>Get an Interactive TensorFlow Session</a></span></li><li><span><a href=\"#Customary-Hello-TensorFlow-!!!\" data-toc-modified-id=\"Customary-Hello-TensorFlow-!!!-2\"><span class=\"toc-item-num\">2&nbsp;&nbsp;</span>Customary Hello TensorFlow !!!</a></span></li><li><span><a href=\"#Constants\" data-toc-modified-id=\"Constants-3\"><span class=\"toc-item-num\">3&nbsp;&nbsp;</span>Constants</a></span></li><li><span><a href=\"#Operations\" data-toc-modified-id=\"Operations-4\"><span class=\"toc-item-num\">4&nbsp;&nbsp;</span>Operations</a></span></li><li><span><a href=\"#Placeholders\" data-toc-modified-id=\"Placeholders-5\"><span class=\"toc-item-num\">5&nbsp;&nbsp;</span>Placeholders</a></span></li><li><span><a href=\"#Creating-Tensors-from-Existing-Objects\" data-toc-modified-id=\"Creating-Tensors-from-Existing-Objects-6\"><span class=\"toc-item-num\">6&nbsp;&nbsp;</span>Creating Tensors from Existing Objects</a></span><ul class=\"toc-item\"><li><span><a href=\"#0-Dimensional-Tensors-(Scalars)\" data-toc-modified-id=\"0-Dimensional-Tensors-(Scalars)-6.1\"><span class=\"toc-item-num\">6.1&nbsp;&nbsp;</span>0-Dimensional Tensors (Scalars)</a></span></li><li><span><a href=\"#1-Dimensional-Tensors-(Vectors)\" data-toc-modified-id=\"1-Dimensional-Tensors-(Vectors)-6.2\"><span class=\"toc-item-num\">6.2&nbsp;&nbsp;</span>1-Dimensional Tensors (Vectors)</a></span></li><li><span><a href=\"#2-Dimensional-Tensors-(Matrices)\" data-toc-modified-id=\"2-Dimensional-Tensors-(Matrices)-6.3\"><span class=\"toc-item-num\">6.3&nbsp;&nbsp;</span>2-Dimensional Tensors (Matrices)</a></span></li><li><span><a href=\"#3-Dimensional-Tensors\" data-toc-modified-id=\"3-Dimensional-Tensors-6.4\"><span class=\"toc-item-num\">6.4&nbsp;&nbsp;</span>3-Dimensional Tensors</a></span></li></ul></li><li><span><a href=\"#Variables\" data-toc-modified-id=\"Variables-7\"><span class=\"toc-item-num\">7&nbsp;&nbsp;</span>Variables</a></span></li><li><span><a href=\"#Creating-Tensors-from-Library-Functions\" data-toc-modified-id=\"Creating-Tensors-from-Library-Functions-8\"><span class=\"toc-item-num\">8&nbsp;&nbsp;</span>Creating Tensors from Library Functions</a></span></li><li><span><a href=\"#Close-the-interactive-session\" data-toc-modified-id=\"Close-the-interactive-session-9\"><span class=\"toc-item-num\">9&nbsp;&nbsp;</span>Close the interactive session</a></span></li><li><span><a href=\"#Computation-Graphs\" data-toc-modified-id=\"Computation-Graphs-10\"><span class=\"toc-item-num\">10&nbsp;&nbsp;</span>Computation Graphs</a></span><ul class=\"toc-item\"><li><span><a href=\"#Building-and-Running-simple-computation-graph\" data-toc-modified-id=\"Building-and-Running-simple-computation-graph-10.1\"><span class=\"toc-item-num\">10.1&nbsp;&nbsp;</span>Building and Running simple computation graph</a></span></li><li><span><a href=\"#Graph-on-Compute-Devices\" data-toc-modified-id=\"Graph-on-Compute-Devices-10.2\"><span class=\"toc-item-num\">10.2&nbsp;&nbsp;</span>Graph on Compute Devices</a></span></li><li><span><a href=\"#Executing-Graph-g-as-Default\" data-toc-modified-id=\"Executing-Graph-g-as-Default-10.3\"><span class=\"toc-item-num\">10.3&nbsp;&nbsp;</span>Executing Graph g as Default</a></span></li></ul></li><li><span><a href=\"#TensorBoard\" data-toc-modified-id=\"TensorBoard-11\"><span class=\"toc-item-num\">11&nbsp;&nbsp;</span>TensorBoard</a></span><ul class=\"toc-item\"><li><span><a href=\"#Use-Jupyter-TensorBoard-plugin\" data-toc-modified-id=\"Use-Jupyter-TensorBoard-plugin-11.1\"><span class=\"toc-item-num\">11.1&nbsp;&nbsp;</span>Use Jupyter TensorBoard plugin</a></span></li></ul></li></ul></div>"
   ]
  },
  {
   "cell_type": "markdown",
   "metadata": {},
   "source": [
    "# TensorFlow 101 <a class=\"tocSkip\">"
   ]
  },
  {
   "cell_type": "code",
   "execution_count": 4,
   "metadata": {},
   "outputs": [],
   "source": [
    "import tensorflow as tf\n",
    "import numpy as np"
   ]
  },
  {
   "cell_type": "markdown",
   "metadata": {},
   "source": [
    "# Get an Interactive TensorFlow Session "
   ]
  },
  {
   "cell_type": "code",
   "execution_count": 5,
   "metadata": {},
   "outputs": [],
   "source": [
    "tfs = tf.InteractiveSession()"
   ]
  },
  {
   "cell_type": "markdown",
   "metadata": {},
   "source": [
    "# Customary Hello TensorFlow !!!"
   ]
  },
  {
   "cell_type": "code",
   "execution_count": 6,
   "metadata": {},
   "outputs": [
    {
     "name": "stdout",
     "output_type": "stream",
     "text": [
      "b'Hello TensorFlow !!'\n"
     ]
    }
   ],
   "source": [
    "hello = tf.constant(\"Hello TensorFlow !!\")\n",
    "print(tfs.run(hello))"
   ]
  },
  {
   "cell_type": "markdown",
   "metadata": {},
   "source": [
    "# Constants"
   ]
  },
  {
   "cell_type": "code",
   "execution_count": 7,
   "metadata": {},
   "outputs": [
    {
     "name": "stdout",
     "output_type": "stream",
     "text": [
      "c1 (x):  Tensor(\"x:0\", shape=(), dtype=int32)\n",
      "c2 (y):  Tensor(\"y:0\", shape=(), dtype=float32)\n",
      "c3 (z):  Tensor(\"z:0\", shape=(), dtype=float32)\n"
     ]
    }
   ],
   "source": [
    "c1 = tf.constant(5, name='x')\n",
    "c2 = tf.constant(6.0, name='y')\n",
    "c3 = tf.constant(7.0, tf.float32, name='z')\n",
    "print('c1 (x): ', c1)\n",
    "print('c2 (y): ', c2)\n",
    "print('c3 (z): ', c3)"
   ]
  },
  {
   "cell_type": "code",
   "execution_count": 8,
   "metadata": {},
   "outputs": [
    {
     "name": "stdout",
     "output_type": "stream",
     "text": [
      "run([c1,c2,c3]) :  [5, 6.0, 7.0]\n"
     ]
    }
   ],
   "source": [
    "print('run([c1,c2,c3]) : ', tfs.run([c1, c2, c3]))"
   ]
  },
  {
   "cell_type": "markdown",
   "metadata": {},
   "source": [
    "# Operations"
   ]
  },
  {
   "cell_type": "code",
   "execution_count": 9,
   "metadata": {},
   "outputs": [
    {
     "name": "stdout",
     "output_type": "stream",
     "text": [
      "op1 :  Tensor(\"Add:0\", shape=(), dtype=float32)\n",
      "op2 :  Tensor(\"Mul:0\", shape=(), dtype=float32)\n"
     ]
    }
   ],
   "source": [
    "op1 = tf.add(c2, c3)\n",
    "op2 = tf.multiply(c2, c3)\n",
    "print('op1 : ', op1)\n",
    "print('op2 : ', op2)"
   ]
  },
  {
   "cell_type": "code",
   "execution_count": 10,
   "metadata": {},
   "outputs": [
    {
     "name": "stdout",
     "output_type": "stream",
     "text": [
      "run(op1) :  13.0\n",
      "run(op2) :  42.0\n"
     ]
    }
   ],
   "source": [
    "print('run(op1) : ', tfs.run(op1))\n",
    "print('run(op2) : ', tfs.run(op2))"
   ]
  },
  {
   "cell_type": "markdown",
   "metadata": {},
   "source": [
    "# Placeholders"
   ]
  },
  {
   "cell_type": "code",
   "execution_count": 11,
   "metadata": {},
   "outputs": [
    {
     "name": "stdout",
     "output_type": "stream",
     "text": [
      "p1 :  Tensor(\"Placeholder:0\", dtype=float32)\n",
      "p2 :  Tensor(\"Placeholder_1:0\", dtype=float32)\n"
     ]
    }
   ],
   "source": [
    "p1 = tf.placeholder(tf.float32)\n",
    "p2 = tf.placeholder(tf.float32)\n",
    "print('p1 : ', p1)\n",
    "print('p2 : ', p2)"
   ]
  },
  {
   "cell_type": "code",
   "execution_count": 12,
   "metadata": {},
   "outputs": [],
   "source": [
    "op4 = p1 * p2  # shorthand for tf.multiply(p1, p2)"
   ]
  },
  {
   "cell_type": "code",
   "execution_count": 13,
   "metadata": {},
   "outputs": [
    {
     "name": "stdout",
     "output_type": "stream",
     "text": [
      "run(op4,{p1:2.0, p2:3.0}) :  6.0\n"
     ]
    }
   ],
   "source": [
    "print('run(op4,{p1:2.0, p2:3.0}) : ',tfs.run(op4,{p1:2.0, p2:3.0}))"
   ]
  },
  {
   "cell_type": "code",
   "execution_count": 14,
   "metadata": {},
   "outputs": [
    {
     "name": "stdout",
     "output_type": "stream",
     "text": [
      "run(op4,feed_dict = {p1:3.0, p2:4.0}) :  12.0\n"
     ]
    }
   ],
   "source": [
    "print('run(op4,feed_dict = {p1:3.0, p2:4.0}) : ',\n",
    "      tfs.run(op4, feed_dict={p1: 3.0, p2: 4.0}))"
   ]
  },
  {
   "cell_type": "code",
   "execution_count": 15,
   "metadata": {},
   "outputs": [
    {
     "name": "stdout",
     "output_type": "stream",
     "text": [
      "run(op4,feed_dict={p1:[2.0,3.0,4.0], p2:[3.0,4.0,5.0]}): [ 6. 12. 20.]\n"
     ]
    }
   ],
   "source": [
    "print('run(op4,feed_dict={p1:[2.0,3.0,4.0], p2:[3.0,4.0,5.0]}):',\n",
    "      tfs.run(op4, feed_dict={p1: [2.0, 3.0, 4.0], p2: [3.0, 4.0, 5.0]}))"
   ]
  },
  {
   "cell_type": "markdown",
   "metadata": {},
   "source": [
    "# Creating Tensors from Existing Objects"
   ]
  },
  {
   "cell_type": "markdown",
   "metadata": {},
   "source": [
    "## 0-Dimensional Tensors (Scalars)"
   ]
  },
  {
   "cell_type": "code",
   "execution_count": 16,
   "metadata": {},
   "outputs": [
    {
     "name": "stdout",
     "output_type": "stream",
     "text": [
      "tf_t :  Tensor(\"Const_1:0\", shape=(), dtype=float64)\n",
      "run(tf_t) : \n",
      " 5.0\n"
     ]
    }
   ],
   "source": [
    "tf_t = tf.convert_to_tensor(5.0, dtype=tf.float64)\n",
    "\n",
    "print('tf_t : ', tf_t)\n",
    "print('run(tf_t) : \\n', tfs.run(tf_t))"
   ]
  },
  {
   "cell_type": "markdown",
   "metadata": {},
   "source": [
    "## 1-Dimensional Tensors (Vectors)"
   ]
  },
  {
   "cell_type": "code",
   "execution_count": 17,
   "metadata": {
    "scrolled": true
   },
   "outputs": [
    {
     "name": "stdout",
     "output_type": "stream",
     "text": [
      "a1dim Shape :  (5,)\n",
      "tf_t :  Tensor(\"Const_2:0\", shape=(5,), dtype=float64)\n",
      "tf_t[0] :  Tensor(\"strided_slice:0\", shape=(), dtype=float64)\n",
      "tf_t[0] :  Tensor(\"strided_slice_1:0\", shape=(), dtype=float64)\n",
      "run(tf_t) : \n",
      " [1.   2.   3.   4.   5.99]\n"
     ]
    }
   ],
   "source": [
    "a1dim = np.array([1, 2, 3, 4, 5.99])\n",
    "print(\"a1dim Shape : \", a1dim.shape)\n",
    "\n",
    "tf_t = tf.convert_to_tensor(a1dim, dtype=tf.float64)\n",
    "\n",
    "print('tf_t : ', tf_t)\n",
    "print('tf_t[0] : ', tf_t[0])\n",
    "print('tf_t[0] : ', tf_t[2])\n",
    "print('run(tf_t) : \\n', tfs.run(tf_t))"
   ]
  },
  {
   "cell_type": "markdown",
   "metadata": {},
   "source": [
    "## 2-Dimensional Tensors (Matrices)"
   ]
  },
  {
   "cell_type": "code",
   "execution_count": 18,
   "metadata": {},
   "outputs": [
    {
     "name": "stdout",
     "output_type": "stream",
     "text": [
      "a2dim Shape :  (3, 5)\n",
      "tf_t :  Tensor(\"Const_3:0\", shape=(3, 5), dtype=float64)\n",
      "tf_t[0][0] :  Tensor(\"strided_slice_3:0\", shape=(), dtype=float64)\n",
      "tf_t[1][2] :  Tensor(\"strided_slice_5:0\", shape=(), dtype=float64)\n",
      "run(tf_t) : \n",
      " [[1.   2.   3.   4.   5.99]\n",
      " [2.   3.   4.   5.   6.99]\n",
      " [3.   4.   5.   6.   7.99]]\n"
     ]
    }
   ],
   "source": [
    "a2dim = np.array([(1, 2, 3, 4, 5.99),\n",
    "                  (2, 3, 4, 5, 6.99),\n",
    "                  (3, 4, 5, 6, 7.99)\n",
    "                  ])\n",
    "print(\"a2dim Shape : \", a2dim.shape)\n",
    "\n",
    "tf_t = tf.convert_to_tensor(a2dim, dtype=tf.float64)\n",
    "\n",
    "print('tf_t : ', tf_t)\n",
    "print('tf_t[0][0] : ', tf_t[0][0])\n",
    "print('tf_t[1][2] : ', tf_t[1][2])\n",
    "print('run(tf_t) : \\n', tfs.run(tf_t))"
   ]
  },
  {
   "cell_type": "markdown",
   "metadata": {},
   "source": [
    "## 3-Dimensional Tensors"
   ]
  },
  {
   "cell_type": "code",
   "execution_count": 19,
   "metadata": {},
   "outputs": [
    {
     "name": "stdout",
     "output_type": "stream",
     "text": [
      "a3dim Shape :  (2, 2, 2)\n",
      "tf_t :  Tensor(\"Const_4:0\", shape=(2, 2, 2), dtype=float64)\n",
      "tf_t[0][0][0] :  Tensor(\"strided_slice_8:0\", shape=(), dtype=float64)\n",
      "tf_t[1][1][1] :  Tensor(\"strided_slice_11:0\", shape=(), dtype=float64)\n",
      "run(tf_t) : \n",
      " [[[1. 2.]\n",
      "  [3. 4.]]\n",
      "\n",
      " [[5. 6.]\n",
      "  [7. 8.]]]\n"
     ]
    }
   ],
   "source": [
    "a3dim = np.array([[[1, 2],\n",
    "                   [3, 4]\n",
    "                   ],\n",
    "                  [[5, 6],\n",
    "                   [7, 8]\n",
    "                   ]\n",
    "                  ])\n",
    "print(\"a3dim Shape : \", a3dim.shape)\n",
    "\n",
    "tf_t = tf.convert_to_tensor(a3dim, dtype=tf.float64)\n",
    "\n",
    "print('tf_t : ', tf_t)\n",
    "print('tf_t[0][0][0] : ', tf_t[0][0][0])\n",
    "print('tf_t[1][1][1] : ', tf_t[1][1][1])\n",
    "print('run(tf_t) : \\n', tfs.run(tf_t))"
   ]
  },
  {
   "cell_type": "markdown",
   "metadata": {},
   "source": [
    "# Variables"
   ]
  },
  {
   "cell_type": "code",
   "execution_count": 20,
   "metadata": {
    "scrolled": true
   },
   "outputs": [
    {
     "name": "stdout",
     "output_type": "stream",
     "text": [
      "w: <tf.Variable 'Variable:0' shape=(1,) dtype=float32_ref>\n",
      "x: Tensor(\"Placeholder_2:0\", dtype=float32)\n",
      "b: <tf.Variable 'Variable_1:0' shape=(1,) dtype=float32_ref>\n",
      "y: Tensor(\"add_1:0\", dtype=float32)\n"
     ]
    }
   ],
   "source": [
    "# Assume Linear Model y = w * x + b\n",
    "# Define model parameters\n",
    "w = tf.Variable([.3], tf.float32)\n",
    "b = tf.Variable([-.3], tf.float32)\n",
    "# Define model input and output\n",
    "x = tf.placeholder(tf.float32)\n",
    "y = w * x + b\n",
    "\n",
    "print(\"w:\", w)\n",
    "print(\"x:\", x)\n",
    "print(\"b:\", b)\n",
    "print(\"y:\", y)"
   ]
  },
  {
   "cell_type": "code",
   "execution_count": 21,
   "metadata": {
    "scrolled": true
   },
   "outputs": [
    {
     "name": "stdout",
     "output_type": "stream",
     "text": [
      "run(y,{x:[1,2,3,4]}) :  [0.         0.3        0.6        0.90000004]\n"
     ]
    }
   ],
   "source": [
    "# initialize and print the variable y\n",
    "tf.global_variables_initializer().run()\n",
    "print('run(y,{x:[1,2,3,4]}) : ', tfs.run(y, {x: [1, 2, 3, 4]}))"
   ]
  },
  {
   "cell_type": "markdown",
   "metadata": {},
   "source": [
    "# Creating Tensors from Library Functions"
   ]
  },
  {
   "cell_type": "code",
   "execution_count": 22,
   "metadata": {},
   "outputs": [
    {
     "name": "stdout",
     "output_type": "stream",
     "text": [
      "[0. 0. 0. 0. 0. 0. 0. 0. 0. 0. 0. 0. 0. 0. 0. 0. 0. 0. 0. 0. 0. 0. 0. 0.\n",
      " 0. 0. 0. 0. 0. 0. 0. 0. 0. 0. 0. 0. 0. 0. 0. 0. 0. 0. 0. 0. 0. 0. 0. 0.\n",
      " 0. 0. 0. 0. 0. 0. 0. 0. 0. 0. 0. 0. 0. 0. 0. 0. 0. 0. 0. 0. 0. 0. 0. 0.\n",
      " 0. 0. 0. 0. 0. 0. 0. 0. 0. 0. 0. 0. 0. 0. 0. 0. 0. 0. 0. 0. 0. 0. 0. 0.\n",
      " 0. 0. 0. 0.]\n"
     ]
    }
   ],
   "source": [
    "a = tf.zeros((100,))\n",
    "print(tfs.run(a))"
   ]
  },
  {
   "cell_type": "markdown",
   "metadata": {},
   "source": [
    "# Close the interactive session"
   ]
  },
  {
   "cell_type": "code",
   "execution_count": 23,
   "metadata": {},
   "outputs": [],
   "source": [
    "tfs.close()"
   ]
  },
  {
   "cell_type": "markdown",
   "metadata": {},
   "source": [
    "# Computation Graphs"
   ]
  },
  {
   "cell_type": "markdown",
   "metadata": {},
   "source": [
    "## Building and Running simple computation graph"
   ]
  },
  {
   "cell_type": "code",
   "execution_count": 24,
   "metadata": {},
   "outputs": [
    {
     "name": "stdout",
     "output_type": "stream",
     "text": [
      "output :  [0.         0.3        0.6        0.90000004]\n"
     ]
    }
   ],
   "source": [
    "# Assume Linear Model y = w * x + b\n",
    "# Define model parameters\n",
    "w = tf.Variable([.3], tf.float32)\n",
    "b = tf.Variable([-.3], tf.float32)\n",
    "# Define model input and output\n",
    "x = tf.placeholder(tf.float32)\n",
    "y = w * x + b\n",
    "output = 0\n",
    "\n",
    "with tf.Session() as tfs:\n",
    "    # initialize and print the variable y\n",
    "    tf.global_variables_initializer().run()\n",
    "    output = tfs.run(y, {x: [1, 2, 3, 4]})\n",
    "print('output : ', output)"
   ]
  },
  {
   "cell_type": "markdown",
   "metadata": {},
   "source": [
    "## Graph on Compute Devices"
   ]
  },
  {
   "cell_type": "code",
   "execution_count": 25,
   "metadata": {},
   "outputs": [
    {
     "name": "stdout",
     "output_type": "stream",
     "text": [
      "[name: \"/device:CPU:0\"\n",
      "device_type: \"CPU\"\n",
      "memory_limit: 268435456\n",
      "locality {\n",
      "}\n",
      "incarnation: 11849012528989275693\n",
      ", name: \"/device:GPU:0\"\n",
      "device_type: \"GPU\"\n",
      "memory_limit: 15413385626\n",
      "locality {\n",
      "  bus_id: 1\n",
      "  links {\n",
      "  }\n",
      "}\n",
      "incarnation: 17245918684042642552\n",
      "physical_device_desc: \"device: 0, name: Quadro P5000, pci bus id: 0000:01:00.0, compute capability: 6.1\"\n",
      "]\n"
     ]
    }
   ],
   "source": [
    "from tensorflow.python.client import device_lib\n",
    "\n",
    "print(device_lib.list_local_devices())"
   ]
  },
  {
   "cell_type": "code",
   "execution_count": 26,
   "metadata": {},
   "outputs": [
    {
     "name": "stdout",
     "output_type": "stream",
     "text": [
      "output [0.         0.3        0.6        0.90000004]\n"
     ]
    }
   ],
   "source": [
    "tf.reset_default_graph()\n",
    "\n",
    "# Define model parameters\n",
    "w = tf.get_variable(name='w', initializer=[.3], dtype=tf.float32)\n",
    "b = tf.get_variable(name='b', initializer=[-.3], dtype=tf.float32)\n",
    "# Define model input and output\n",
    "x = tf.placeholder(name='x', dtype=tf.float32)\n",
    "y = w * x + b\n",
    "\n",
    "config = tf.ConfigProto()\n",
    "config.log_device_placement = True\n",
    "\n",
    "with tf.Session(config=config) as tfs:\n",
    "    # initialize and print the variable y\n",
    "    tfs.run(tf.global_variables_initializer())\n",
    "    print('output', tfs.run(y, {x: [1, 2, 3, 4]}))"
   ]
  },
  {
   "cell_type": "code",
   "execution_count": 27,
   "metadata": {},
   "outputs": [
    {
     "name": "stdout",
     "output_type": "stream",
     "text": [
      "output [0.         0.3        0.6        0.90000004]\n"
     ]
    }
   ],
   "source": [
    "tf.reset_default_graph()\n",
    "\n",
    "with tf.device('/device:CPU:0'):\n",
    "    # Define model parameters\n",
    "    w = tf.get_variable(name='w', initializer=[.3], dtype=tf.float32)\n",
    "    b = tf.get_variable(name='b', initializer=[-.3], dtype=tf.float32)\n",
    "    # Define model input and output\n",
    "    x = tf.placeholder(name='x', dtype=tf.float32)\n",
    "    y = w * x + b\n",
    "\n",
    "config = tf.ConfigProto()\n",
    "config.log_device_placement = True\n",
    "\n",
    "with tf.Session(config=config) as tfs:\n",
    "    # initialize and print the variable y\n",
    "    tfs.run(tf.global_variables_initializer())\n",
    "    print('output', tfs.run(y, {x: [1, 2, 3, 4]}))"
   ]
  },
  {
   "cell_type": "code",
   "execution_count": 28,
   "metadata": {},
   "outputs": [
    {
     "name": "stdout",
     "output_type": "stream",
     "text": [
      "output [0.         0.3        0.6        0.90000004]\n"
     ]
    }
   ],
   "source": [
    "tf.reset_default_graph()\n",
    "\n",
    "with tf.device('/device:CPU:0'):\n",
    "    # Define model parameters\n",
    "    w = tf.get_variable(name='w', initializer=[.3], dtype=tf.float32)\n",
    "    b = tf.get_variable(name='b', initializer=[-.3], dtype=tf.float32)\n",
    "    # Define model input and output\n",
    "    x = tf.placeholder(name='x', dtype=tf.float32)\n",
    "with tf.device('/device:GPU:0'):\n",
    "    y = w * x + b\n",
    "\n",
    "config = tf.ConfigProto()\n",
    "config.log_device_placement = True\n",
    "\n",
    "with tf.Session(config=config) as tfs:\n",
    "    # initialize and print the variable y\n",
    "    tfs.run(tf.global_variables_initializer())\n",
    "    print('output', tfs.run(y, {x: [1, 2, 3, 4]}))"
   ]
  },
  {
   "cell_type": "markdown",
   "metadata": {},
   "source": [
    "## Executing Graph g as Default"
   ]
  },
  {
   "cell_type": "code",
   "execution_count": 29,
   "metadata": {},
   "outputs": [
    {
     "name": "stdout",
     "output_type": "stream",
     "text": [
      "output :  [0.         0.3        0.6        0.90000004]\n"
     ]
    }
   ],
   "source": [
    "g = tf.Graph()\n",
    "output = 0\n",
    "\n",
    "# Assume Linear Model y = w * x + b\n",
    "\n",
    "with g.as_default():\n",
    "    # Define model parameters\n",
    "    w = tf.Variable([.3], tf.float32)\n",
    "    b = tf.Variable([-.3], tf.float32)\n",
    "    # Define model input and output\n",
    "    x = tf.placeholder(tf.float32)\n",
    "    y = w * x + b\n",
    "\n",
    "with tf.Session(graph=g) as tfs:\n",
    "    # initialize and print the variable y\n",
    "    tf.global_variables_initializer().run()\n",
    "    output = tfs.run(y, {x: [1, 2, 3, 4]})\n",
    "\n",
    "print('output : ', output)"
   ]
  },
  {
   "cell_type": "markdown",
   "metadata": {},
   "source": [
    "# TensorBoard"
   ]
  },
  {
   "cell_type": "code",
   "execution_count": 30,
   "metadata": {},
   "outputs": [
    {
     "name": "stdout",
     "output_type": "stream",
     "text": [
      "run(y,{x:3}) :  [0.6]\n"
     ]
    }
   ],
   "source": [
    "import tensorflow as tf\n",
    "import numpy as np\n",
    "\n",
    "# Assume Linear Model y = w * x + b\n",
    "# Define model parameters\n",
    "w = tf.Variable([.3], name='w', dtype=tf.float32)\n",
    "b = tf.Variable([-.3], name='b', dtype=tf.float32)\n",
    "# Define model input and output\n",
    "x = tf.placeholder(name='x', dtype=tf.float32)\n",
    "y = w * x + b\n",
    "\n",
    "with tf.Session() as tfs:\n",
    "    tf.global_variables_initializer().run()\n",
    "    writer = tf.summary.FileWriter('tflogs/run1', tfs.graph)\n",
    "    print('run(y,{x:3}) : ', tfs.run(y, feed_dict={x: 3}))"
   ]
  },
  {
   "cell_type": "code",
   "execution_count": 31,
   "metadata": {},
   "outputs": [
    {
     "name": "stdout",
     "output_type": "stream",
     "text": [
      "TensorBoard 1.10.0 at http://librenix:6006 (Press CTRL+C to quit)\n",
      "^C\n"
     ]
    }
   ],
   "source": [
    "!tensorboard --logdir=tflogs"
   ]
  },
  {
   "cell_type": "markdown",
   "metadata": {},
   "source": [
    "## Use Jupyter TensorBoard plugin"
   ]
  },
  {
   "cell_type": "markdown",
   "metadata": {},
   "source": [
    "Install using the following commands:\n",
    "\n",
    "pip install jupyter-tensorboard --upgrade\n",
    "\n",
    "jupyter tensorboard enable --user"
   ]
  },
  {
   "cell_type": "code",
   "execution_count": null,
   "metadata": {},
   "outputs": [],
   "source": []
  }
 ],
 "metadata": {
  "kernelspec": {
   "display_name": "Python 3",
   "language": "python",
   "name": "python3"
  },
  "language_info": {
   "codemirror_mode": {
    "name": "ipython",
    "version": 3
   },
   "file_extension": ".py",
   "mimetype": "text/x-python",
   "name": "python",
   "nbconvert_exporter": "python",
   "pygments_lexer": "ipython3",
   "version": "3.6.6"
  },
  "toc": {
   "base_numbering": 1,
   "nav_menu": {
    "height": "306px",
    "width": "240px"
   },
   "number_sections": true,
   "sideBar": true,
   "skip_h1_title": false,
   "title_cell": "Table of Contents",
   "title_sidebar": "Contents",
   "toc_cell": true,
   "toc_position": {},
   "toc_section_display": "block",
   "toc_window_display": true
  }
 },
 "nbformat": 4,
 "nbformat_minor": 2
}
