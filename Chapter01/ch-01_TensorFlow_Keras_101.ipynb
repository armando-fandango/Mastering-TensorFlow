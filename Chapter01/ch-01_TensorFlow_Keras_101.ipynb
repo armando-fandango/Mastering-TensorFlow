{
 "cells": [
  {
   "cell_type": "markdown",
   "metadata": {},
   "source": [
    "# TensorFlow and Keras 101 <a class=\"tocSkip\">\n",
    "\n",
    "<table align=\"left\">\n",
    "  <td>\n",
    "    <a target=\"_blank\" href=\"https://colab.research.google.com/github/armando-fandango/Mastering-Tensorflow/blob/tf2/Chapter01/ch-01_TensorFlow_Keras_101.ipynb\"><img src=\"https://colab.research.google.com/img/colab_favicon.ico\" style=\"width:30px;\" />Run in Google Colab</a>\n",
    "  </td>\n",
    "</table>"
   ]
  },
  {
   "cell_type": "markdown",
   "metadata": {
    "toc": true
   },
   "source": [
    "<h1>Table of Contents<span class=\"tocSkip\"></span></h1>\n",
    "<div class=\"toc\"><ul class=\"toc-item\"><li><span><a href=\"#Install-TensorFlow-2.0-alpha\" data-toc-modified-id=\"Install-TensorFlow-2.0-alpha-1\"><span class=\"toc-item-num\">1&nbsp;&nbsp;</span>Install TensorFlow 2.0 alpha</a></span></li><li><span><a href=\"#Import-TensorFlow-and-Keras\" data-toc-modified-id=\"Import-TensorFlow-and-Keras-2\"><span class=\"toc-item-num\">2&nbsp;&nbsp;</span>Import TensorFlow and Keras</a></span></li><li><span><a href=\"#Customary-Hello-TensorFlow-!!!\" data-toc-modified-id=\"Customary-Hello-TensorFlow-!!!-3\"><span class=\"toc-item-num\">3&nbsp;&nbsp;</span>Customary Hello TensorFlow !!!</a></span></li><li><span><a href=\"#TF-Keras\" data-toc-modified-id=\"TF-Keras-4\"><span class=\"toc-item-num\">4&nbsp;&nbsp;</span>TF Keras</a></span><ul class=\"toc-item\"><li><span><a href=\"#Load-the-MNIST-dataset\" data-toc-modified-id=\"Load-the-MNIST-dataset-4.1\"><span class=\"toc-item-num\">4.1&nbsp;&nbsp;</span>Load the MNIST dataset</a></span></li><li><span><a href=\"#TF-Keras-Sequential-Model\" data-toc-modified-id=\"TF-Keras-Sequential-Model-4.2\"><span class=\"toc-item-num\">4.2&nbsp;&nbsp;</span>TF Keras Sequential Model</a></span></li><li><span><a href=\"#Plot-the-model\" data-toc-modified-id=\"Plot-the-model-4.3\"><span class=\"toc-item-num\">4.3&nbsp;&nbsp;</span>Plot the model</a></span></li><li><span><a href=\"#Visualize-Training-with-History-Object\" data-toc-modified-id=\"Visualize-Training-with-History-Object-4.4\"><span class=\"toc-item-num\">4.4&nbsp;&nbsp;</span>Visualize Training with History Object</a></span></li><li><span><a href=\"#Visualizing-with-TensorBoard\" data-toc-modified-id=\"Visualizing-with-TensorBoard-4.5\"><span class=\"toc-item-num\">4.5&nbsp;&nbsp;</span>Visualizing with TensorBoard</a></span></li><li><span><a href=\"#TF-Keras-Functional-API\" data-toc-modified-id=\"TF-Keras-Functional-API-4.6\"><span class=\"toc-item-num\">4.6&nbsp;&nbsp;</span>TF Keras Functional API</a></span></li><li><span><a href=\"#TF-Keras-Model-Subclass-API\" data-toc-modified-id=\"TF-Keras-Model-Subclass-API-4.7\"><span class=\"toc-item-num\">4.7&nbsp;&nbsp;</span>TF Keras Model Subclass API</a></span></li></ul></li></ul></div>"
   ]
  },
  {
   "cell_type": "code",
   "execution_count": null,
   "metadata": {},
   "outputs": [],
   "source": [
    "# Imports to make notebook compatible with Python 2\n",
    "from __future__ import absolute_import, division, print_function, unicode_literals"
   ]
  },
  {
   "cell_type": "markdown",
   "metadata": {},
   "source": [
    "# Install TensorFlow 2.0 alpha"
   ]
  },
  {
   "cell_type": "code",
   "execution_count": null,
   "metadata": {},
   "outputs": [],
   "source": [
    "!pip install -U tensorflow-gpu==2.0.0-alpha0\n",
    "\n",
    "#!pip install tensorflow==2.0.0-alpha0"
   ]
  },
  {
   "cell_type": "markdown",
   "metadata": {},
   "source": [
    "# Import TensorFlow and Keras"
   ]
  },
  {
   "cell_type": "code",
   "execution_count": null,
   "metadata": {},
   "outputs": [],
   "source": [
    "import tensorflow as tf\n",
    "import tensorflow.keras as keras\n",
    "    \n",
    "import numpy as np\n",
    "import pandas as pd\n",
    "import matplotlib as mpl\n",
    "from matplotlib import pyplot as plt\n",
    "\n",
    "import sys\n",
    "from IPython import display\n",
    "\n",
    "print('Python : {}'.format(sys.version))\n",
    "for package in tf, keras, np, pd, mpl:\n",
    "    print('{} : {}'.format(package.__name__, package.__version__))"
   ]
  },
  {
   "cell_type": "markdown",
   "metadata": {},
   "source": [
    "# Customary Hello TensorFlow !!!"
   ]
  },
  {
   "cell_type": "code",
   "execution_count": null,
   "metadata": {},
   "outputs": [],
   "source": [
    "hello = tf.constant('Hello TensorFlow 2 !!')\n",
    "tf.print(hello)"
   ]
  },
  {
   "cell_type": "code",
   "execution_count": null,
   "metadata": {},
   "outputs": [],
   "source": [
    "print(hello)"
   ]
  },
  {
   "cell_type": "markdown",
   "metadata": {},
   "source": [
    "# TF Keras"
   ]
  },
  {
   "cell_type": "markdown",
   "metadata": {},
   "source": [
    "## Load the MNIST dataset"
   ]
  },
  {
   "cell_type": "code",
   "execution_count": null,
   "metadata": {},
   "outputs": [],
   "source": [
    "from tensorflow.keras.datasets import mnist\n",
    "(x_train, y_train), (x_test, y_test) = mnist.load_data()\n",
    "\n",
    "# normalize the values of image vectors to fit under 1\n",
    "x_train = x_train / 255.0\n",
    "x_test = x_test / 255.0\n",
    "\n",
    "# data properties\n",
    "n_inputs = 784\n",
    "n_outputs = 10\n",
    "\n",
    "# reshape data\n",
    "x_train = x_train.reshape(-1, n_inputs)\n",
    "x_test = x_test.reshape(-1, n_inputs)"
   ]
  },
  {
   "cell_type": "markdown",
   "metadata": {},
   "source": [
    "## TF Keras Sequential Model"
   ]
  },
  {
   "cell_type": "code",
   "execution_count": null,
   "metadata": {},
   "outputs": [],
   "source": [
    "from tensorflow.keras.layers import Dense, Dropout\n",
    "\n",
    "# define hyperparameters\n",
    "n_neurons = [128, 128]\n",
    "dropout_val = 0.1\n",
    "batch_size = 100\n",
    "n_epochs = 5\n",
    "\n",
    "# build a sequential model\n",
    "model = keras.Sequential(name='MNIST Keras Sequential API')\n",
    "\n",
    "# add the first fully connected layer\n",
    "model.add(\n",
    "    Dense(units=n_neurons[0], activation='sigmoid', input_shape=(n_inputs, )))\n",
    "model.add(Dropout(dropout_val))\n",
    "\n",
    "# add second fully connected layer\n",
    "model.add(Dense(units=n_neurons[1], activation='sigmoid'))\n",
    "model.add(Dropout(dropout_val))\n",
    "\n",
    "# add output layer\n",
    "model.add(Dense(units=n_outputs, activation='softmax'))\n",
    "\n",
    "# alternative code to build the same sequential model\n",
    "# model = keras.Sequential([\n",
    "#     Dense(units=n_neurons[0], activation='sigmoid',\n",
    "#           input_shape=(n_inputs,)),\n",
    "#     Dropout(dropout_val),\n",
    "#     Dense(units=n_neurons[1], activation='sigmoid'),\n",
    "#     Dropout(dropout_val),\n",
    "#     Dense(units=n_outputs, activation='softmax')\n",
    "# ])\n",
    "\n",
    "# compile the model\n",
    "model.compile(loss='sparse_categorical_crossentropy',\n",
    "              optimizer='sgd',\n",
    "              metrics=['accuracy'])\n",
    "\n",
    "# train the model\n",
    "history = model.fit(x_train, y_train, batch_size=batch_size, \n",
    "                    epochs=n_epochs)\n",
    "\n",
    "# evaluate the model and print the accuracy score\n",
    "scores = model.evaluate(x_test, y_test)\n",
    "\n",
    "print('\\nloss:', scores[0])\n",
    "print('accuracy:', scores[1])"
   ]
  },
  {
   "cell_type": "markdown",
   "metadata": {},
   "source": [
    "## Plot the model"
   ]
  },
  {
   "cell_type": "code",
   "execution_count": null,
   "metadata": {},
   "outputs": [],
   "source": [
    "# print the summary of our model\n",
    "model.summary()\n",
    "\n",
    "# plot the model\n",
    "keras.utils.plot_model(model,\n",
    "                       to_file='mnist_tfk_seq_api.png',\n",
    "                       show_shapes=True,\n",
    "                       show_layer_names=True)\n",
    "display.display(display.Image('mnist_tfk_seq_api.png'))\n"
   ]
  },
  {
   "cell_type": "markdown",
   "metadata": {},
   "source": [
    "## Visualize Training with History Object"
   ]
  },
  {
   "cell_type": "code",
   "execution_count": null,
   "metadata": {},
   "outputs": [],
   "source": [
    "# Plot training & validation accuracy values\n",
    "plt.plot(history.history['accuracy'])\n",
    "plt.title('Model Accuracy')\n",
    "plt.ylabel('Accuracy')\n",
    "plt.xlabel('Epoch')\n",
    "plt.show()\n",
    "\n",
    "# Plot training & validation loss values\n",
    "plt.plot(history.history['loss'])\n",
    "plt.title('Model Loss')\n",
    "plt.ylabel('Loss')\n",
    "plt.xlabel('Epoch')\n",
    "plt.show()"
   ]
  },
  {
   "cell_type": "markdown",
   "metadata": {},
   "source": [
    "## Visualizing with TensorBoard"
   ]
  },
  {
   "cell_type": "code",
   "execution_count": null,
   "metadata": {},
   "outputs": [],
   "source": [
    "# Install Jupyter Tensorboard plugin using the following commands:\n",
    "\n",
    "#!pip install -U tb-nightly\n",
    "!pip install -U jupyter-tensorboard\n",
    "!jupyter tensorboard enable --user"
   ]
  },
  {
   "cell_type": "code",
   "execution_count": null,
   "metadata": {},
   "outputs": [],
   "source": [
    "from tensorflow.keras.callbacks import TensorBoard\n",
    "from datetime import datetime\n",
    "import os\n",
    "\n",
    "logs_dir = 'tflogs'\n",
    "os.makedirs(logs_dir, exist_ok=True)"
   ]
  },
  {
   "cell_type": "code",
   "execution_count": null,
   "metadata": {},
   "outputs": [],
   "source": [
    "from tensorflow.keras.layers import Dense, Dropout\n",
    "\n",
    "# define hyperparameters\n",
    "n_neurons = [128, 128]\n",
    "dropout_val = 0.1\n",
    "batch_size = 100\n",
    "n_epochs = 5\n",
    "\n",
    "# build a sequential model\n",
    "model = keras.Sequential([\n",
    "    Dense(units=n_neurons[0], activation='sigmoid',\n",
    "          input_shape=(n_inputs,)),\n",
    "    Dropout(dropout_val),\n",
    "    Dense(units=n_neurons[1], activation='sigmoid'),\n",
    "    Dropout(dropout_val),\n",
    "    Dense(units=n_outputs, activation='softmax')\n",
    "], name='MNIST Keras Sequential API')\n",
    "\n",
    "model.compile(loss='sparse_categorical_crossentropy',\n",
    "              optimizer='sgd',\n",
    "              metrics=['accuracy'])\n",
    "\n",
    "log_dir = os.path.join(logs_dir,\n",
    "                        datetime.now().strftime(\"%Y%m%d-%H%M%S\"))\n",
    "tbc = TensorBoard(log_dir=log_dir,\n",
    "                  histogram_freq=1,\n",
    "                   write_graph=True,  \n",
    "                  write_images=True\n",
    "                 )\n",
    "\n",
    "history = model.fit(x_train, y_train, batch_size=batch_size, \n",
    "                    epochs=n_epochs, callbacks=[tbc])\n",
    "scores = model.evaluate(x_test, y_test)"
   ]
  },
  {
   "cell_type": "code",
   "execution_count": null,
   "metadata": {
    "scrolled": true
   },
   "outputs": [],
   "source": [
    "!tensorboard --inspect --logdir {log_dir}"
   ]
  },
  {
   "cell_type": "code",
   "execution_count": null,
   "metadata": {
    "scrolled": false
   },
   "outputs": [],
   "source": [
    "# load TensorBoard notebook extension\n",
    "%load_ext tensorboard.notebook\n",
    "%tensorboard --logdir tflogs/"
   ]
  },
  {
   "cell_type": "code",
   "execution_count": null,
   "metadata": {},
   "outputs": [],
   "source": [
    "from tensorflow.keras.layers import Dense, Dropout\n",
    "\n",
    "# define hyperparameters\n",
    "n_neurons = [128, 128]\n",
    "dropout_val = 0.1\n",
    "batch_size = 100\n",
    "n_epochs = 5  # change this to 50000\n",
    "\n",
    "# build a sequential model\n",
    "model = keras.Sequential([\n",
    "    Dense(units=n_neurons[0], activation='sigmoid',\n",
    "          input_shape=(n_inputs,)),\n",
    "    Dropout(dropout_val),\n",
    "    Dense(units=n_neurons[1], activation='sigmoid'),\n",
    "    Dropout(dropout_val),\n",
    "    Dense(units=n_outputs, activation='softmax')\n",
    "], name='MNIST Keras Sequential API')\n",
    "\n",
    "model.compile(loss='sparse_categorical_crossentropy',\n",
    "              optimizer='sgd',\n",
    "              metrics=['accuracy'])\n",
    "\n",
    "log_dir = os.path.join(logs_dir,\n",
    "                        datetime.now().strftime(\"%Y%m%d-%H%M%S\"))\n",
    "tbc = TensorBoard(log_dir=log_dir,\n",
    "                  histogram_freq=1,\n",
    "                   write_graph=True,  \n",
    "                  write_images=True\n",
    "                 )\n",
    "\n",
    "history = model.fit(x_train, y_train, batch_size=batch_size, \n",
    "                    epochs=n_epochs, callbacks=[tbc], verbose=0)\n",
    "scores = model.evaluate(x_test, y_test)"
   ]
  },
  {
   "cell_type": "markdown",
   "metadata": {},
   "source": [
    "## TF Keras Functional API "
   ]
  },
  {
   "cell_type": "code",
   "execution_count": null,
   "metadata": {},
   "outputs": [],
   "source": [
    "from tensorflow.keras.layers import Dense, Dropout\n",
    "\n",
    "# define hyperparameters\n",
    "n_neurons = [128, 128]\n",
    "dropout_val = 0.1\n",
    "batch_size = 100\n",
    "n_epochs = 5\n",
    "\n",
    "# define input layer\n",
    "input_layer = keras.Input(shape=(n_inputs,))  \n",
    "\n",
    "# define hidden layers and output\n",
    "x = Dense(units=n_neurons[0], activation='sigmoid')(input_layer)\n",
    "x = Dropout(dropout_val)(x)\n",
    "x = Dense(units=n_neurons[1], activation='sigmoid')(x)\n",
    "x = Dropout(dropout_val)(x)\n",
    "output_layer = Dense(units=n_outputs, activation='softmax')(x)\n",
    "\n",
    "# build a functional model\n",
    "model = keras.Model(inputs=input_layer, outputs=output_layer,\n",
    "                    name='MNIST Keras Functional API')\n",
    "\n",
    "# compile the model\n",
    "model.compile(loss='sparse_categorical_crossentropy',\n",
    "              optimizer='sgd',\n",
    "              metrics=['accuracy'])\n",
    "\n",
    "# train the model\n",
    "model.fit(x_train, y_train, batch_size=batch_size, epochs=n_epochs)\n",
    "\n",
    "# evaluate the model and print the accuracy score\n",
    "scores = model.evaluate(x_test, y_test)\n",
    "\n",
    "print('\\nloss:', scores[0])\n",
    "print('accuracy:', scores[1])"
   ]
  },
  {
   "cell_type": "code",
   "execution_count": null,
   "metadata": {},
   "outputs": [],
   "source": [
    "# print the summary of our model\n",
    "model.summary()\n",
    "\n",
    "# plot the model\n",
    "keras.utils.plot_model(model, \n",
    "                       to_file='mnist_tfk_func_api.png', \n",
    "                       show_shapes=True, \n",
    "                       show_layer_names=True)\n",
    "display.display(display.Image('mnist_tfk_func_api.png'))"
   ]
  },
  {
   "cell_type": "markdown",
   "metadata": {},
   "source": [
    "## TF Keras Model Subclass API "
   ]
  },
  {
   "cell_type": "code",
   "execution_count": null,
   "metadata": {},
   "outputs": [],
   "source": [
    "from tensorflow.keras.layers import Dense, Dropout\n",
    "\n",
    "# define hyperparameters\n",
    "n_neurons = [128, 128]\n",
    "dropout_val = 0.1\n",
    "batch_size = 100\n",
    "n_epochs = 5\n",
    "\n",
    "\n",
    "class TheModel(keras.Model):\n",
    "    def __init__(self, n_inputs, n_outputs):\n",
    "        super(TheModel, self).__init__(name='the_model')\n",
    "        self.n_inputs = n_inputs\n",
    "        self.n_outputs = n_outputs\n",
    "\n",
    "        # Define the layers\n",
    "        self.l_in = Dense(units=n_neurons[0],\n",
    "                          activation='sigmoid',\n",
    "                          input_shape=(n_inputs, ))\n",
    "        self.l_1 = Dropout(dropout_val)\n",
    "        self.l_2 = Dense(units=n_neurons[1], activation='sigmoid')\n",
    "        self.l_3 = Dropout(dropout_val)\n",
    "        self.l_out = Dense(units=n_outputs, activation='softmax')\n",
    "\n",
    "    def call(self, inputs):\n",
    "        # Define the forward pass with the self.l_ layers\n",
    "        x = self.l_in(inputs)\n",
    "        x = self.l_1(x)\n",
    "        x = self.l_2(x)\n",
    "        x = self.l_3(x)\n",
    "        return self.l_out(x)\n",
    "    \n",
    "    def compute_output_shape(self, input_shape):\n",
    "        shape = tf.TensorShape(input_shape).as_list()\n",
    "        shape[-1] = self.n_outputs\n",
    "        return tf.TensorShape(shape)\n",
    "\n",
    "\n",
    "model = TheModel(n_inputs=n_inputs, n_outputs=n_outputs)\n",
    "model.build(input_shape=(batch_size,n_inputs))\n",
    "\n",
    "# compile the model\n",
    "model.compile(loss='sparse_categorical_crossentropy',\n",
    "              optimizer='sgd',\n",
    "              metrics=['accuracy'])\n",
    "\n",
    "# train the model\n",
    "model.fit(x_train, y_train, batch_size=batch_size, epochs=n_epochs)\n",
    "\n",
    "# evaluate the model and print the accuracy score\n",
    "scores = model.evaluate(x_test, y_test)\n",
    "\n",
    "print('\\n loss:', scores[0])\n",
    "print('\\n accuracy:', scores[1])"
   ]
  },
  {
   "cell_type": "code",
   "execution_count": null,
   "metadata": {},
   "outputs": [],
   "source": [
    "# print the summary of our model\n",
    "model.summary()\n",
    "\n",
    "# plot the model\n",
    "keras.utils.plot_model(model, \n",
    "                       to_file='mnist_tfk_subclass.png', \n",
    "                       show_shapes=True, \n",
    "                       show_layer_names=True)\n",
    "display.display(display.Image('mnist_tfk_subclass.png'))"
   ]
  }
 ],
 "metadata": {
  "kernelspec": {
   "display_name": "Python 3",
   "language": "python",
   "name": "python3"
  },
  "language_info": {
   "codemirror_mode": {
    "name": "ipython",
    "version": 3
   },
   "file_extension": ".py",
   "mimetype": "text/x-python",
   "name": "python",
   "nbconvert_exporter": "python",
   "pygments_lexer": "ipython3",
   "version": "3.7.2"
  },
  "toc": {
   "base_numbering": 1,
   "nav_menu": {
    "height": "306px",
    "width": "240px"
   },
   "number_sections": true,
   "sideBar": true,
   "skip_h1_title": false,
   "title_cell": "Table of Contents",
   "title_sidebar": "Contents",
   "toc_cell": true,
   "toc_position": {},
   "toc_section_display": "block",
   "toc_window_display": true
  }
 },
 "nbformat": 4,
 "nbformat_minor": 2
}
