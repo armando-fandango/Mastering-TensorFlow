{
 "cells": [
  {
   "cell_type": "markdown",
   "metadata": {},
   "source": [
    "# TensorFlow and Keras 101 <a class=\"tocSkip\">\n",
    "\n",
    "<table align=\"left\">\n",
    "  <td>\n",
    "    <a target=\"_blank\" href=\"https://colab.research.google.com/github/armando-fandango/<-path-to-repo>\"><img src=\"https://colab.research.google.com/img/colab_favicon.ico\" style=\"width:30px;\" />Run in Google Colab</a>\n",
    "  </td>\n",
    "  <td>\n",
    "    <a target=\"_blank\" href=\"https://github.com/armando-fandango/<-path-to-repo>\"><img src=\"https://github.githubassets.com/images/modules/logos_page/GitHub-Logo.png\" style=\"width:70px;\" vspace=\"7px\"/>View source on GitHub</a>\n",
    "  </td>\n",
    "</table>"
   ]
  },
  {
   "cell_type": "markdown",
   "metadata": {
    "toc": true
   },
   "source": [
    "<h1>Table of Contents<span class=\"tocSkip\"></span></h1>\n",
    "<div class=\"toc\"><ul class=\"toc-item\"><li><span><a href=\"#Install-TensorFlow-2.0-alpha\" data-toc-modified-id=\"Install-TensorFlow-2.0-alpha-1\"><span class=\"toc-item-num\">1&nbsp;&nbsp;</span>Install TensorFlow 2.0 alpha</a></span></li><li><span><a href=\"#Import-TensorFlow-and-Keras\" data-toc-modified-id=\"Import-TensorFlow-and-Keras-2\"><span class=\"toc-item-num\">2&nbsp;&nbsp;</span>Import TensorFlow and Keras</a></span></li><li><span><a href=\"#Customary-Hello-TensorFlow-!!!\" data-toc-modified-id=\"Customary-Hello-TensorFlow-!!!-3\"><span class=\"toc-item-num\">3&nbsp;&nbsp;</span>Customary Hello TensorFlow !!!</a></span></li><li><span><a href=\"#TF-Keras\" data-toc-modified-id=\"TF-Keras-4\"><span class=\"toc-item-num\">4&nbsp;&nbsp;</span>TF Keras</a></span><ul class=\"toc-item\"><li><span><a href=\"#Load-the-MNIST-dataset\" data-toc-modified-id=\"Load-the-MNIST-dataset-4.1\"><span class=\"toc-item-num\">4.1&nbsp;&nbsp;</span>Load the MNIST dataset</a></span></li><li><span><a href=\"#TF-Keras-Sequential-Model\" data-toc-modified-id=\"TF-Keras-Sequential-Model-4.2\"><span class=\"toc-item-num\">4.2&nbsp;&nbsp;</span>TF Keras Sequential Model</a></span></li><li><span><a href=\"#Plot-the-model\" data-toc-modified-id=\"Plot-the-model-4.3\"><span class=\"toc-item-num\">4.3&nbsp;&nbsp;</span>Plot the model</a></span></li><li><span><a href=\"#Visualize-Training-with-History-Object\" data-toc-modified-id=\"Visualize-Training-with-History-Object-4.4\"><span class=\"toc-item-num\">4.4&nbsp;&nbsp;</span>Visualize Training with History Object</a></span></li><li><span><a href=\"#Visualizing-with-TensorBoard\" data-toc-modified-id=\"Visualizing-with-TensorBoard-4.5\"><span class=\"toc-item-num\">4.5&nbsp;&nbsp;</span>Visualizing with TensorBoard</a></span></li><li><span><a href=\"#TF-Keras-Functional-API\" data-toc-modified-id=\"TF-Keras-Functional-API-4.6\"><span class=\"toc-item-num\">4.6&nbsp;&nbsp;</span>TF Keras Functional API</a></span></li><li><span><a href=\"#TF-Keras-Model-Subclass-API\" data-toc-modified-id=\"TF-Keras-Model-Subclass-API-4.7\"><span class=\"toc-item-num\">4.7&nbsp;&nbsp;</span>TF Keras Model Subclass API</a></span></li></ul></li></ul></div>"
   ]
  },
  {
   "cell_type": "code",
   "execution_count": 1,
   "metadata": {},
   "outputs": [],
   "source": [
    "# Imports to make notebook compatible with Python 2\n",
    "from __future__ import absolute_import, division, print_function, unicode_literals"
   ]
  },
  {
   "cell_type": "markdown",
   "metadata": {},
   "source": [
    "# Install TensorFlow 2.0 alpha"
   ]
  },
  {
   "cell_type": "code",
   "execution_count": 2,
   "metadata": {},
   "outputs": [
    {
     "name": "stdout",
     "output_type": "stream",
     "text": [
      "Requirement already up-to-date: tensorflow-gpu==2.0.0-alpha0 in /opt/anaconda3/envs/tf2/lib/python3.6/site-packages (2.0.0a0)\n",
      "Requirement already satisfied, skipping upgrade: gast>=0.2.0 in /opt/anaconda3/envs/tf2/lib/python3.6/site-packages (from tensorflow-gpu==2.0.0-alpha0) (0.2.2)\n",
      "Requirement already satisfied, skipping upgrade: numpy<2.0,>=1.14.5 in /opt/anaconda3/envs/tf2/lib/python3.6/site-packages (from tensorflow-gpu==2.0.0-alpha0) (1.16.2)\n",
      "Requirement already satisfied, skipping upgrade: grpcio>=1.8.6 in /opt/anaconda3/envs/tf2/lib/python3.6/site-packages (from tensorflow-gpu==2.0.0-alpha0) (1.19.0)\n",
      "Requirement already satisfied, skipping upgrade: astor>=0.6.0 in /opt/anaconda3/envs/tf2/lib/python3.6/site-packages (from tensorflow-gpu==2.0.0-alpha0) (0.7.1)\n",
      "Requirement already satisfied, skipping upgrade: six>=1.10.0 in /opt/anaconda3/envs/tf2/lib/python3.6/site-packages (from tensorflow-gpu==2.0.0-alpha0) (1.12.0)\n",
      "Requirement already satisfied, skipping upgrade: google-pasta>=0.1.2 in /opt/anaconda3/envs/tf2/lib/python3.6/site-packages (from tensorflow-gpu==2.0.0-alpha0) (0.1.6)\n",
      "Requirement already satisfied, skipping upgrade: tf-estimator-nightly<1.14.0.dev2019030116,>=1.14.0.dev2019030115 in /opt/anaconda3/envs/tf2/lib/python3.6/site-packages (from tensorflow-gpu==2.0.0-alpha0) (1.14.0.dev2019030115)\n",
      "Requirement already satisfied, skipping upgrade: protobuf>=3.6.1 in /opt/anaconda3/envs/tf2/lib/python3.6/site-packages (from tensorflow-gpu==2.0.0-alpha0) (3.7.1)\n",
      "Requirement already satisfied, skipping upgrade: termcolor>=1.1.0 in /opt/anaconda3/envs/tf2/lib/python3.6/site-packages (from tensorflow-gpu==2.0.0-alpha0) (1.1.0)\n",
      "Requirement already satisfied, skipping upgrade: wheel>=0.26 in /opt/anaconda3/envs/tf2/lib/python3.6/site-packages (from tensorflow-gpu==2.0.0-alpha0) (0.33.1)\n",
      "Requirement already satisfied, skipping upgrade: tb-nightly<1.14.0a20190302,>=1.14.0a20190301 in /opt/anaconda3/envs/tf2/lib/python3.6/site-packages (from tensorflow-gpu==2.0.0-alpha0) (1.14.0a20190301)\n",
      "Requirement already satisfied, skipping upgrade: keras-preprocessing>=1.0.5 in /opt/anaconda3/envs/tf2/lib/python3.6/site-packages (from tensorflow-gpu==2.0.0-alpha0) (1.0.9)\n",
      "Requirement already satisfied, skipping upgrade: keras-applications>=1.0.6 in /opt/anaconda3/envs/tf2/lib/python3.6/site-packages (from tensorflow-gpu==2.0.0-alpha0) (1.0.7)\n",
      "Requirement already satisfied, skipping upgrade: absl-py>=0.7.0 in /opt/anaconda3/envs/tf2/lib/python3.6/site-packages (from tensorflow-gpu==2.0.0-alpha0) (0.7.1)\n",
      "Requirement already satisfied, skipping upgrade: setuptools in /opt/anaconda3/envs/tf2/lib/python3.6/site-packages (from protobuf>=3.6.1->tensorflow-gpu==2.0.0-alpha0) (40.8.0)\n",
      "Requirement already satisfied, skipping upgrade: werkzeug>=0.11.15 in /opt/anaconda3/envs/tf2/lib/python3.6/site-packages (from tb-nightly<1.14.0a20190302,>=1.14.0a20190301->tensorflow-gpu==2.0.0-alpha0) (0.14.1)\n",
      "Requirement already satisfied, skipping upgrade: markdown>=2.6.8 in /opt/anaconda3/envs/tf2/lib/python3.6/site-packages (from tb-nightly<1.14.0a20190302,>=1.14.0a20190301->tensorflow-gpu==2.0.0-alpha0) (3.1)\n",
      "Requirement already satisfied, skipping upgrade: h5py in /opt/anaconda3/envs/tf2/lib/python3.6/site-packages (from keras-applications>=1.0.6->tensorflow-gpu==2.0.0-alpha0) (2.9.0)\n"
     ]
    }
   ],
   "source": [
    "!pip install -U tensorflow-gpu==2.0.0-alpha0\n",
    "\n",
    "#!pip install tensorflow==2.0.0-alpha0"
   ]
  },
  {
   "cell_type": "markdown",
   "metadata": {},
   "source": [
    "# Import TensorFlow and Keras"
   ]
  },
  {
   "cell_type": "code",
   "execution_count": 3,
   "metadata": {},
   "outputs": [
    {
     "name": "stdout",
     "output_type": "stream",
     "text": [
      "Python : 3.6.8 |Anaconda custom (64-bit)| (default, Dec 30 2018, 01:22:34) \n",
      "[GCC 7.3.0]\n",
      "tensorflow : 2.0.0-alpha0\n",
      "tensorflow.keras : 2.2.4-tf\n",
      "numpy : 1.16.2\n",
      "pandas : 0.24.2\n",
      "matplotlib : 3.0.3\n"
     ]
    }
   ],
   "source": [
    "import tensorflow as tf\n",
    "import tensorflow.keras as keras\n",
    "    \n",
    "import numpy as np\n",
    "import pandas as pd\n",
    "import matplotlib as mpl\n",
    "from matplotlib import pyplot as plt\n",
    "\n",
    "import sys\n",
    "from IPython import display\n",
    "\n",
    "print('Python : {}'.format(sys.version))\n",
    "for package in tf, keras, np, pd, mpl:\n",
    "    print('{} : {}'.format(package.__name__, package.__version__))"
   ]
  },
  {
   "cell_type": "markdown",
   "metadata": {},
   "source": [
    "# Customary Hello TensorFlow !!!"
   ]
  },
  {
   "cell_type": "code",
   "execution_count": 4,
   "metadata": {},
   "outputs": [
    {
     "name": "stdout",
     "output_type": "stream",
     "text": [
      "Hello TensorFlow 2 !!\n"
     ]
    }
   ],
   "source": [
    "hello = tf.constant('Hello TensorFlow 2 !!')\n",
    "tf.print(hello)"
   ]
  },
  {
   "cell_type": "code",
   "execution_count": 5,
   "metadata": {},
   "outputs": [
    {
     "name": "stdout",
     "output_type": "stream",
     "text": [
      "tf.Tensor(b'Hello TensorFlow 2 !!', shape=(), dtype=string)\n"
     ]
    }
   ],
   "source": [
    "print(hello)"
   ]
  },
  {
   "cell_type": "markdown",
   "metadata": {},
   "source": [
    "# TF Keras"
   ]
  },
  {
   "cell_type": "markdown",
   "metadata": {},
   "source": [
    "## Load the MNIST dataset"
   ]
  },
  {
   "cell_type": "code",
   "execution_count": 6,
   "metadata": {},
   "outputs": [],
   "source": [
    "from tensorflow.keras.datasets import mnist\n",
    "(x_train, y_train), (x_test, y_test) = mnist.load_data()\n",
    "\n",
    "# normalize the values of image vectors to fit under 1\n",
    "x_train = x_train / 255.0\n",
    "x_test = x_test / 255.0\n",
    "\n",
    "# data properties\n",
    "n_inputs = 784\n",
    "n_outputs = 10\n",
    "\n",
    "# reshape data\n",
    "x_train = x_train.reshape(-1, n_inputs)\n",
    "x_test = x_test.reshape(-1, n_inputs)"
   ]
  },
  {
   "cell_type": "markdown",
   "metadata": {},
   "source": [
    "## TF Keras Sequential Model"
   ]
  },
  {
   "cell_type": "code",
   "execution_count": 7,
   "metadata": {},
   "outputs": [
    {
     "name": "stdout",
     "output_type": "stream",
     "text": [
      "Epoch 1/5\n",
      "60000/60000 [==============================] - 2s 28us/sample - loss: 2.3777 - accuracy: 0.1019\n",
      "Epoch 2/5\n",
      "60000/60000 [==============================] - 1s 22us/sample - loss: 2.3213 - accuracy: 0.1071\n",
      "Epoch 3/5\n",
      "60000/60000 [==============================] - 1s 22us/sample - loss: 2.3148 - accuracy: 0.1140\n",
      "Epoch 4/5\n",
      "60000/60000 [==============================] - 1s 22us/sample - loss: 2.3110 - accuracy: 0.1158\n",
      "Epoch 5/5\n",
      "60000/60000 [==============================] - 1s 21us/sample - loss: 2.3049 - accuracy: 0.1202\n",
      "10000/10000 [==============================] - 0s 45us/sample - loss: 2.2759 - accuracy: 0.1407\n",
      "\n",
      "loss: 2.2758694046020507\n",
      "accuracy: 0.1407\n"
     ]
    }
   ],
   "source": [
    "from tensorflow.keras.layers import Dense, Dropout\n",
    "\n",
    "# define hyperparameters\n",
    "n_neurons = [128, 128]\n",
    "dropout_val = 0.1\n",
    "batch_size = 100\n",
    "n_epochs = 5\n",
    "\n",
    "# build a sequential model\n",
    "model = keras.Sequential(name='MNIST Keras Sequential API')\n",
    "\n",
    "# add the first fully connected layer\n",
    "model.add(\n",
    "    Dense(units=n_neurons[0], activation='sigmoid', input_shape=(n_inputs, )))\n",
    "model.add(Dropout(dropout_val))\n",
    "\n",
    "# add second fully connected layer\n",
    "model.add(Dense(units=n_neurons[1], activation='sigmoid'))\n",
    "model.add(Dropout(dropout_val))\n",
    "\n",
    "# add output layer\n",
    "model.add(Dense(units=n_outputs, activation='softmax'))\n",
    "\n",
    "# alternative code to build the same sequential model\n",
    "# model = keras.Sequential([\n",
    "#     Dense(units=n_neurons[0], activation='sigmoid',\n",
    "#           input_shape=(n_inputs,)),\n",
    "#     Dropout(dropout_val),\n",
    "#     Dense(units=n_neurons[1], activation='sigmoid'),\n",
    "#     Dropout(dropout_val),\n",
    "#     Dense(units=n_outputs, activation='softmax')\n",
    "# ])\n",
    "\n",
    "# compile the model\n",
    "model.compile(loss='sparse_categorical_crossentropy',\n",
    "              optimizer='sgd',\n",
    "              metrics=['accuracy'])\n",
    "\n",
    "# train the model\n",
    "history = model.fit(x_train, y_train, batch_size=batch_size, \n",
    "                    epochs=n_epochs)\n",
    "\n",
    "# evaluate the model and print the accuracy score\n",
    "scores = model.evaluate(x_test, y_test)\n",
    "\n",
    "print('\\nloss:', scores[0])\n",
    "print('accuracy:', scores[1])"
   ]
  },
  {
   "cell_type": "markdown",
   "metadata": {},
   "source": [
    "## Plot the model"
   ]
  },
  {
   "cell_type": "code",
   "execution_count": 8,
   "metadata": {},
   "outputs": [
    {
     "name": "stdout",
     "output_type": "stream",
     "text": [
      "Model: \"MNIST Keras Sequential API\"\n",
      "_________________________________________________________________\n",
      "Layer (type)                 Output Shape              Param #   \n",
      "=================================================================\n",
      "dense (Dense)                (None, 128)               100480    \n",
      "_________________________________________________________________\n",
      "dropout (Dropout)            (None, 128)               0         \n",
      "_________________________________________________________________\n",
      "dense_1 (Dense)              (None, 128)               16512     \n",
      "_________________________________________________________________\n",
      "dropout_1 (Dropout)          (None, 128)               0         \n",
      "_________________________________________________________________\n",
      "dense_2 (Dense)              (None, 10)                1290      \n",
      "=================================================================\n",
      "Total params: 118,282\n",
      "Trainable params: 118,282\n",
      "Non-trainable params: 0\n",
      "_________________________________________________________________\n"
     ]
    },
    {
     "data": {
      "image/png": "[encoded data removed]",
      "text/plain": [
       "<IPython.core.display.Image object>"
      ]
     },
     "metadata": {},
     "output_type": "display_data"
    }
   ],
   "source": [
    "# print the summary of our model\n",
    "model.summary()\n",
    "\n",
    "# plot the model\n",
    "keras.utils.plot_model(model,\n",
    "                       to_file='mnist_tfk_seq_api.png',\n",
    "                       show_shapes=True,\n",
    "                       show_layer_names=True)\n",
    "display.display(display.Image('mnist_tfk_seq_api.png'))\n"
   ]
  },
  {
   "cell_type": "markdown",
   "metadata": {},
   "source": [
    "## Visualize Training with History Object"
   ]
  },
  {
   "cell_type": "code",
   "execution_count": 9,
   "metadata": {},
   "outputs": [
    {
     "data": {
      "image/png": "[encoded data removed]",
      "text/plain": [
       "<Figure size 432x288 with 1 Axes>"
      ]
     },
     "metadata": {
      "needs_background": "light"
     },
     "output_type": "display_data"
    },
    {
     "data": {
      "image/png": "[encoded data removed]",
      "text/plain": [
       "<Figure size 432x288 with 1 Axes>"
      ]
     },
     "metadata": {
      "needs_background": "light"
     },
     "output_type": "display_data"
    }
   ],
   "source": [
    "# Plot training & validation accuracy values\n",
    "plt.plot(history.history['accuracy'])\n",
    "plt.title('Model Accuracy')\n",
    "plt.ylabel('Accuracy')\n",
    "plt.xlabel('Epoch')\n",
    "plt.show()\n",
    "\n",
    "# Plot training & validation loss values\n",
    "plt.plot(history.history['loss'])\n",
    "plt.title('Model Loss')\n",
    "plt.ylabel('Loss')\n",
    "plt.xlabel('Epoch')\n",
    "plt.show()"
   ]
  },
  {
   "cell_type": "markdown",
   "metadata": {},
   "source": [
    "## Visualizing with TensorBoard"
   ]
  },
  {
   "cell_type": "code",
   "execution_count": 10,
   "metadata": {},
   "outputs": [
    {
     "name": "stdout",
     "output_type": "stream",
     "text": [
      "Requirement already up-to-date: jupyter-tensorboard in /opt/anaconda3/envs/tf2/lib/python3.6/site-packages (0.1.10)\n",
      "Requirement already satisfied, skipping upgrade: notebook>=5.0 in /opt/anaconda3/envs/tf2/lib/python3.6/site-packages (from jupyter-tensorboard) (5.7.8)\n",
      "Requirement already satisfied, skipping upgrade: terminado>=0.8.1 in /opt/anaconda3/envs/tf2/lib/python3.6/site-packages (from notebook>=5.0->jupyter-tensorboard) (0.8.1)\n",
      "Requirement already satisfied, skipping upgrade: Send2Trash in /opt/anaconda3/envs/tf2/lib/python3.6/site-packages (from notebook>=5.0->jupyter-tensorboard) (1.5.0)\n",
      "Requirement already satisfied, skipping upgrade: ipykernel in /opt/anaconda3/envs/tf2/lib/python3.6/site-packages (from notebook>=5.0->jupyter-tensorboard) (5.1.0)\n",
      "Requirement already satisfied, skipping upgrade: jupyter-core>=4.4.0 in /opt/anaconda3/envs/tf2/lib/python3.6/site-packages (from notebook>=5.0->jupyter-tensorboard) (4.4.0)\n",
      "Requirement already satisfied, skipping upgrade: jupyter-client>=5.2.0 in /opt/anaconda3/envs/tf2/lib/python3.6/site-packages (from notebook>=5.0->jupyter-tensorboard) (5.2.4)\n",
      "Requirement already satisfied, skipping upgrade: nbformat in /opt/anaconda3/envs/tf2/lib/python3.6/site-packages (from notebook>=5.0->jupyter-tensorboard) (4.4.0)\n",
      "Requirement already satisfied, skipping upgrade: nbconvert in /opt/anaconda3/envs/tf2/lib/python3.6/site-packages (from notebook>=5.0->jupyter-tensorboard) (5.4.1)\n",
      "Requirement already satisfied, skipping upgrade: traitlets>=4.2.1 in /opt/anaconda3/envs/tf2/lib/python3.6/site-packages (from notebook>=5.0->jupyter-tensorboard) (4.3.2)\n",
      "Requirement already satisfied, skipping upgrade: tornado<7,>=4.1 in /opt/anaconda3/envs/tf2/lib/python3.6/site-packages (from notebook>=5.0->jupyter-tensorboard) (6.0.2)\n",
      "Requirement already satisfied, skipping upgrade: prometheus-client in /opt/anaconda3/envs/tf2/lib/python3.6/site-packages (from notebook>=5.0->jupyter-tensorboard) (0.6.0)\n",
      "Requirement already satisfied, skipping upgrade: ipython-genutils in /opt/anaconda3/envs/tf2/lib/python3.6/site-packages (from notebook>=5.0->jupyter-tensorboard) (0.2.0)\n",
      "Requirement already satisfied, skipping upgrade: pyzmq>=17 in /opt/anaconda3/envs/tf2/lib/python3.6/site-packages (from notebook>=5.0->jupyter-tensorboard) (18.0.0)\n",
      "Requirement already satisfied, skipping upgrade: jinja2 in /opt/anaconda3/envs/tf2/lib/python3.6/site-packages (from notebook>=5.0->jupyter-tensorboard) (2.10)\n",
      "Requirement already satisfied, skipping upgrade: ipython>=5.0.0 in /opt/anaconda3/envs/tf2/lib/python3.6/site-packages (from ipykernel->notebook>=5.0->jupyter-tensorboard) (7.4.0)\n",
      "Requirement already satisfied, skipping upgrade: python-dateutil>=2.1 in /opt/anaconda3/envs/tf2/lib/python3.6/site-packages (from jupyter-client>=5.2.0->notebook>=5.0->jupyter-tensorboard) (2.8.0)\n",
      "Requirement already satisfied, skipping upgrade: jsonschema!=2.5.0,>=2.4 in /opt/anaconda3/envs/tf2/lib/python3.6/site-packages (from nbformat->notebook>=5.0->jupyter-tensorboard) (3.0.1)\n",
      "Requirement already satisfied, skipping upgrade: mistune>=0.8.1 in /opt/anaconda3/envs/tf2/lib/python3.6/site-packages (from nbconvert->notebook>=5.0->jupyter-tensorboard) (0.8.4)\n",
      "Requirement already satisfied, skipping upgrade: pygments in /opt/anaconda3/envs/tf2/lib/python3.6/site-packages (from nbconvert->notebook>=5.0->jupyter-tensorboard) (2.3.1)\n",
      "Requirement already satisfied, skipping upgrade: entrypoints>=0.2.2 in /opt/anaconda3/envs/tf2/lib/python3.6/site-packages (from nbconvert->notebook>=5.0->jupyter-tensorboard) (0.3)\n",
      "Requirement already satisfied, skipping upgrade: bleach in /opt/anaconda3/envs/tf2/lib/python3.6/site-packages (from nbconvert->notebook>=5.0->jupyter-tensorboard) (3.1.0)\n",
      "Requirement already satisfied, skipping upgrade: pandocfilters>=1.4.1 in /opt/anaconda3/envs/tf2/lib/python3.6/site-packages (from nbconvert->notebook>=5.0->jupyter-tensorboard) (1.4.2)\n",
      "Requirement already satisfied, skipping upgrade: testpath in /opt/anaconda3/envs/tf2/lib/python3.6/site-packages (from nbconvert->notebook>=5.0->jupyter-tensorboard) (0.4.2)\n",
      "Requirement already satisfied, skipping upgrade: defusedxml in /opt/anaconda3/envs/tf2/lib/python3.6/site-packages (from nbconvert->notebook>=5.0->jupyter-tensorboard) (0.5.0)\n",
      "Requirement already satisfied, skipping upgrade: six in /opt/anaconda3/envs/tf2/lib/python3.6/site-packages (from traitlets>=4.2.1->notebook>=5.0->jupyter-tensorboard) (1.12.0)\n",
      "Requirement already satisfied, skipping upgrade: decorator in /opt/anaconda3/envs/tf2/lib/python3.6/site-packages (from traitlets>=4.2.1->notebook>=5.0->jupyter-tensorboard) (4.4.0)\n",
      "Requirement already satisfied, skipping upgrade: MarkupSafe>=0.23 in /opt/anaconda3/envs/tf2/lib/python3.6/site-packages (from jinja2->notebook>=5.0->jupyter-tensorboard) (1.1.1)\n",
      "Requirement already satisfied, skipping upgrade: pickleshare in /opt/anaconda3/envs/tf2/lib/python3.6/site-packages (from ipython>=5.0.0->ipykernel->notebook>=5.0->jupyter-tensorboard) (0.7.5)\n",
      "Requirement already satisfied, skipping upgrade: pexpect; sys_platform != \"win32\" in /opt/anaconda3/envs/tf2/lib/python3.6/site-packages (from ipython>=5.0.0->ipykernel->notebook>=5.0->jupyter-tensorboard) (4.6.0)\n",
      "Requirement already satisfied, skipping upgrade: backcall in /opt/anaconda3/envs/tf2/lib/python3.6/site-packages (from ipython>=5.0.0->ipykernel->notebook>=5.0->jupyter-tensorboard) (0.1.0)\n",
      "Requirement already satisfied, skipping upgrade: prompt-toolkit<2.1.0,>=2.0.0 in /opt/anaconda3/envs/tf2/lib/python3.6/site-packages (from ipython>=5.0.0->ipykernel->notebook>=5.0->jupyter-tensorboard) (2.0.9)\n",
      "Requirement already satisfied, skipping upgrade: setuptools>=18.5 in /opt/anaconda3/envs/tf2/lib/python3.6/site-packages (from ipython>=5.0.0->ipykernel->notebook>=5.0->jupyter-tensorboard) (40.8.0)\n",
      "Requirement already satisfied, skipping upgrade: jedi>=0.10 in /opt/anaconda3/envs/tf2/lib/python3.6/site-packages (from ipython>=5.0.0->ipykernel->notebook>=5.0->jupyter-tensorboard) (0.13.3)\n",
      "Requirement already satisfied, skipping upgrade: attrs>=17.4.0 in /opt/anaconda3/envs/tf2/lib/python3.6/site-packages (from jsonschema!=2.5.0,>=2.4->nbformat->notebook>=5.0->jupyter-tensorboard) (19.1.0)\n",
      "Requirement already satisfied, skipping upgrade: pyrsistent>=0.14.0 in /opt/anaconda3/envs/tf2/lib/python3.6/site-packages (from jsonschema!=2.5.0,>=2.4->nbformat->notebook>=5.0->jupyter-tensorboard) (0.14.11)\n",
      "Requirement already satisfied, skipping upgrade: webencodings in /opt/anaconda3/envs/tf2/lib/python3.6/site-packages (from bleach->nbconvert->notebook>=5.0->jupyter-tensorboard) (0.5.1)\n",
      "Requirement already satisfied, skipping upgrade: ptyprocess>=0.5 in /opt/anaconda3/envs/tf2/lib/python3.6/site-packages (from pexpect; sys_platform != \"win32\"->ipython>=5.0.0->ipykernel->notebook>=5.0->jupyter-tensorboard) (0.6.0)\n",
      "Requirement already satisfied, skipping upgrade: wcwidth in /opt/anaconda3/envs/tf2/lib/python3.6/site-packages (from prompt-toolkit<2.1.0,>=2.0.0->ipython>=5.0.0->ipykernel->notebook>=5.0->jupyter-tensorboard) (0.1.7)\n",
      "Requirement already satisfied, skipping upgrade: parso>=0.3.0 in /opt/anaconda3/envs/tf2/lib/python3.6/site-packages (from jedi>=0.10->ipython>=5.0.0->ipykernel->notebook>=5.0->jupyter-tensorboard) (0.3.4)\n",
      "Enabling tree extension jupyter_tensorboard/tree...\n",
      "      - Validating: \u001b[32mOK\u001b[0m\n",
      "Enabling: jupyter_tensorboard\n",
      "- Writing config: /home/armando/.jupyter\n",
      "    - Validating...\n",
      "      jupyter_tensorboard 0.1.10 \u001b[32mOK\u001b[0m\n"
     ]
    }
   ],
   "source": [
    "# Install Jupyter Tensorboard plugin using the following commands:\n",
    "\n",
    "#!pip install -U tb-nightly\n",
    "!pip install -U jupyter-tensorboard\n",
    "!jupyter tensorboard enable --user"
   ]
  },
  {
   "cell_type": "code",
   "execution_count": 11,
   "metadata": {},
   "outputs": [],
   "source": [
    "from tensorflow.keras.callbacks import TensorBoard\n",
    "from datetime import datetime\n",
    "import os\n",
    "\n",
    "logs_dir = 'tflogs'\n",
    "os.makedirs(logs_dir, exist_ok=True)"
   ]
  },
  {
   "cell_type": "code",
   "execution_count": 12,
   "metadata": {},
   "outputs": [
    {
     "name": "stdout",
     "output_type": "stream",
     "text": [
      "Epoch 1/5\n",
      "60000/60000 [==============================] - 1s 24us/sample - loss: 2.3685 - accuracy: 0.1000\n",
      "Epoch 2/5\n",
      "60000/60000 [==============================] - 1s 22us/sample - loss: 2.3178 - accuracy: 0.1090\n",
      "Epoch 3/5\n",
      "60000/60000 [==============================] - 1s 22us/sample - loss: 2.3108 - accuracy: 0.1154\n",
      "Epoch 4/5\n",
      "60000/60000 [==============================] - 1s 22us/sample - loss: 2.3078 - accuracy: 0.1178\n",
      "Epoch 5/5\n",
      "60000/60000 [==============================] - 1s 23us/sample - loss: 2.3015 - accuracy: 0.1234\n",
      "10000/10000 [==============================] - 1s 59us/sample - loss: 2.2732 - accuracy: 0.1350\n"
     ]
    }
   ],
   "source": [
    "from tensorflow.keras.layers import Dense, Dropout\n",
    "\n",
    "# define hyperparameters\n",
    "n_neurons = [128, 128]\n",
    "dropout_val = 0.1\n",
    "batch_size = 100\n",
    "n_epochs = 5\n",
    "\n",
    "# build a sequential model\n",
    "model = keras.Sequential([\n",
    "    Dense(units=n_neurons[0], activation='sigmoid',\n",
    "          input_shape=(n_inputs,)),\n",
    "    Dropout(dropout_val),\n",
    "    Dense(units=n_neurons[1], activation='sigmoid'),\n",
    "    Dropout(dropout_val),\n",
    "    Dense(units=n_outputs, activation='softmax')\n",
    "], name='MNIST Keras Sequential API')\n",
    "\n",
    "model.compile(loss='sparse_categorical_crossentropy',\n",
    "              optimizer='sgd',\n",
    "              metrics=['accuracy'])\n",
    "\n",
    "log_dir = os.path.join(logs_dir,\n",
    "                        datetime.now().strftime(\"%Y%m%d-%H%M%S\"))\n",
    "tbc = TensorBoard(log_dir=log_dir,\n",
    "                  histogram_freq=1,\n",
    "                   write_graph=True,  \n",
    "                  write_images=True\n",
    "                 )\n",
    "\n",
    "history = model.fit(x_train, y_train, batch_size=batch_size, \n",
    "                    epochs=n_epochs, callbacks=[tbc])\n",
    "scores = model.evaluate(x_test, y_test)"
   ]
  },
  {
   "cell_type": "code",
   "execution_count": 13,
   "metadata": {
    "scrolled": true
   },
   "outputs": [
    {
     "name": "stdout",
     "output_type": "stream",
     "text": [
      "======================================================================\r\n",
      "Processing event files... (this can take a few minutes)\r\n",
      "======================================================================\r\n",
      "\r\n",
      "Found event files in:\r\n",
      "tflogs/20190512-224844/train\r\n",
      "tflogs/20190512-224844/validation\r\n",
      "\r\n",
      "These tags are in tflogs/20190512-224844/train:\r\n",
      "audio -\r\n",
      "histograms\r\n",
      "   dense_3/bias_0\r\n",
      "   dense_3/kernel_0\r\n",
      "   dense_4/bias_0\r\n",
      "   dense_4/kernel_0\r\n",
      "   dense_5/bias_0\r\n",
      "   dense_5/kernel_0\r\n",
      "images\r\n",
      "   dense_3/bias_0/image/0\r\n",
      "   dense_3/kernel_0/image/0\r\n",
      "   dense_4/bias_0/image/0\r\n",
      "   dense_4/kernel_0/image/0\r\n",
      "   dense_5/bias_0/image/0\r\n",
      "   dense_5/kernel_0/image/0\r\n",
      "scalars\r\n",
      "   epoch_accuracy\r\n",
      "   epoch_loss\r\n",
      "tensor\r\n",
      "   batch_2\r\n",
      "   keras\r\n",
      "======================================================================\r\n",
      "\r\n",
      "Event statistics for tflogs/20190512-224844/train:\r\n",
      "audio -\r\n",
      "graph\r\n",
      "   first_step           0\r\n",
      "   last_step            0\r\n",
      "   max_step             0\r\n",
      "   min_step             0\r\n",
      "   num_steps            1\r\n",
      "   outoforder_steps     []\r\n",
      "histograms\r\n",
      "   first_step           0\r\n",
      "   last_step            4\r\n",
      "   max_step             4\r\n",
      "   min_step             0\r\n",
      "   num_steps            5\r\n",
      "   outoforder_steps     []\r\n",
      "images\r\n",
      "   first_step           0\r\n",
      "   last_step            4\r\n",
      "   max_step             4\r\n",
      "   min_step             0\r\n",
      "   num_steps            5\r\n",
      "   outoforder_steps     []\r\n",
      "scalars\r\n",
      "   first_step           0\r\n",
      "   last_step            4\r\n",
      "   max_step             4\r\n",
      "   min_step             0\r\n",
      "   num_steps            5\r\n",
      "   outoforder_steps     []\r\n",
      "sessionlog:checkpoint -\r\n",
      "sessionlog:start -\r\n",
      "sessionlog:stop -\r\n",
      "tensor\r\n",
      "   first_step           0\r\n",
      "   last_step            2\r\n",
      "   max_step             2\r\n",
      "   min_step             0\r\n",
      "   num_steps            2\r\n",
      "   outoforder_steps     []\r\n",
      "======================================================================\r\n",
      "\r\n",
      "These tags are in tflogs/20190512-224844/validation:\r\n",
      "audio -\r\n",
      "histograms -\r\n",
      "images -\r\n",
      "scalars -\r\n",
      "tensor -\r\n",
      "======================================================================\r\n",
      "\r\n",
      "Event statistics for tflogs/20190512-224844/validation:\r\n",
      "audio -\r\n",
      "graph -\r\n",
      "histograms -\r\n",
      "images -\r\n",
      "scalars -\r\n",
      "sessionlog:checkpoint -\r\n",
      "sessionlog:start -\r\n",
      "sessionlog:stop -\r\n",
      "tensor -\r\n",
      "======================================================================\r\n",
      "\r\n"
     ]
    }
   ],
   "source": [
    "!tensorboard --inspect --logdir {log_dir}"
   ]
  },
  {
   "cell_type": "code",
   "execution_count": 20,
   "metadata": {
    "scrolled": false
   },
   "outputs": [
    {
     "name": "stdout",
     "output_type": "stream",
     "text": [
      "The tensorboard.notebook extension is already loaded. To reload it, use:\n",
      "  %reload_ext tensorboard.notebook\n"
     ]
    },
    {
     "data": {
      "text/html": [
       "\n",
       "        <iframe\n",
       "            width=\"100%\"\n",
       "            height=\"800\"\n",
       "            src=\"http://localhost:6009\"\n",
       "            frameborder=\"0\"\n",
       "            allowfullscreen\n",
       "        ></iframe>\n",
       "        "
      ],
      "text/plain": [
       "<IPython.lib.display.IFrame at 0x7f2e9872eb00>"
      ]
     },
     "metadata": {},
     "output_type": "display_data"
    }
   ],
   "source": [
    "# load TensorBoard notebook extension\n",
    "%load_ext tensorboard.notebook\n",
    "%tensorboard --logdir tflogs/"
   ]
  },
  {
   "cell_type": "code",
   "execution_count": 15,
   "metadata": {},
   "outputs": [
    {
     "name": "stdout",
     "output_type": "stream",
     "text": [
      "10000/10000 [==============================] - 0s 43us/sample - loss: 2.2659 - accuracy: 0.1917\n"
     ]
    }
   ],
   "source": [
    "from tensorflow.keras.layers import Dense, Dropout\n",
    "\n",
    "# define hyperparameters\n",
    "n_neurons = [128, 128]\n",
    "dropout_val = 0.1\n",
    "batch_size = 100\n",
    "n_epochs = 5  # change this to 50000\n",
    "\n",
    "# build a sequential model\n",
    "model = keras.Sequential([\n",
    "    Dense(units=n_neurons[0], activation='sigmoid',\n",
    "          input_shape=(n_inputs,)),\n",
    "    Dropout(dropout_val),\n",
    "    Dense(units=n_neurons[1], activation='sigmoid'),\n",
    "    Dropout(dropout_val),\n",
    "    Dense(units=n_outputs, activation='softmax')\n",
    "], name='MNIST Keras Sequential API')\n",
    "\n",
    "model.compile(loss='sparse_categorical_crossentropy',\n",
    "              optimizer='sgd',\n",
    "              metrics=['accuracy'])\n",
    "\n",
    "log_dir = os.path.join(logs_dir,\n",
    "                        datetime.now().strftime(\"%Y%m%d-%H%M%S\"))\n",
    "tbc = TensorBoard(log_dir=log_dir,\n",
    "                  histogram_freq=1,\n",
    "                   write_graph=True,  \n",
    "                  write_images=True\n",
    "                 )\n",
    "\n",
    "history = model.fit(x_train, y_train, batch_size=batch_size, \n",
    "                    epochs=n_epochs, callbacks=[tbc], verbose=0)\n",
    "scores = model.evaluate(x_test, y_test)"
   ]
  },
  {
   "cell_type": "markdown",
   "metadata": {},
   "source": [
    "## TF Keras Functional API "
   ]
  },
  {
   "cell_type": "code",
   "execution_count": 16,
   "metadata": {},
   "outputs": [
    {
     "name": "stdout",
     "output_type": "stream",
     "text": [
      "Epoch 1/5\n",
      "60000/60000 [==============================] - 1s 25us/sample - loss: 2.3797 - accuracy: 0.0991\n",
      "Epoch 2/5\n",
      "60000/60000 [==============================] - 1s 25us/sample - loss: 2.3241 - accuracy: 0.1063\n",
      "Epoch 3/5\n",
      "60000/60000 [==============================] - 1s 22us/sample - loss: 2.3195 - accuracy: 0.1090\n",
      "Epoch 4/5\n",
      "60000/60000 [==============================] - 1s 25us/sample - loss: 2.3145 - accuracy: 0.1128\n",
      "Epoch 5/5\n",
      "60000/60000 [==============================] - 1s 23us/sample - loss: 2.3094 - accuracy: 0.1171\n",
      "10000/10000 [==============================] - 1s 51us/sample - loss: 2.2775 - accuracy: 0.1436\n",
      "\n",
      " loss: 2.2775249324798583\n",
      "\n",
      " accuracy: 0.1436\n"
     ]
    }
   ],
   "source": [
    "from tensorflow.keras.layers import Dense, Dropout\n",
    "\n",
    "# define hyperparameters\n",
    "n_neurons = [128, 128]\n",
    "dropout_val = 0.1\n",
    "batch_size = 100\n",
    "n_epochs = 5\n",
    "\n",
    "# define input layer\n",
    "input_layer = keras.Input(shape=(n_inputs,))  \n",
    "\n",
    "# define hidden layers and output\n",
    "x = Dense(units=n_neurons[0], activation='sigmoid')(input_layer)\n",
    "x = Dropout(dropout_val)(x)\n",
    "x = Dense(units=n_neurons[1], activation='sigmoid')(x)\n",
    "x = Dropout(dropout_val)(x)\n",
    "output_layer = Dense(units=n_outputs, activation='softmax')(x)\n",
    "\n",
    "# build a functional model\n",
    "model = keras.Model(inputs=input_layer, outputs=output_layer,\n",
    "                    name='MNIST Keras Functional API')\n",
    "\n",
    "# compile the model\n",
    "model.compile(loss='sparse_categorical_crossentropy',\n",
    "              optimizer='sgd',\n",
    "              metrics=['accuracy'])\n",
    "\n",
    "# train the model\n",
    "model.fit(x_train, y_train, batch_size=batch_size, epochs=n_epochs)\n",
    "\n",
    "# evaluate the model and print the accuracy score\n",
    "scores = model.evaluate(x_test, y_test)\n",
    "\n",
    "print('\\nloss:', scores[0])\n",
    "print('accuracy:', scores[1])"
   ]
  },
  {
   "cell_type": "code",
   "execution_count": 17,
   "metadata": {},
   "outputs": [
    {
     "name": "stdout",
     "output_type": "stream",
     "text": [
      "Model: \"MNIST Keras Functional API\"\n",
      "_________________________________________________________________\n",
      "Layer (type)                 Output Shape              Param #   \n",
      "=================================================================\n",
      "input_1 (InputLayer)         [(None, 784)]             0         \n",
      "_________________________________________________________________\n",
      "dense_9 (Dense)              (None, 128)               100480    \n",
      "_________________________________________________________________\n",
      "dropout_6 (Dropout)          (None, 128)               0         \n",
      "_________________________________________________________________\n",
      "dense_10 (Dense)             (None, 128)               16512     \n",
      "_________________________________________________________________\n",
      "dropout_7 (Dropout)          (None, 128)               0         \n",
      "_________________________________________________________________\n",
      "dense_11 (Dense)             (None, 10)                1290      \n",
      "=================================================================\n",
      "Total params: 118,282\n",
      "Trainable params: 118,282\n",
      "Non-trainable params: 0\n",
      "_________________________________________________________________\n"
     ]
    },
    {
     "data": {
      "image/png": "[encoded data removed]",
      "text/plain": [
       "<IPython.core.display.Image object>"
      ]
     },
     "metadata": {},
     "output_type": "display_data"
    }
   ],
   "source": [
    "# print the summary of our model\n",
    "model.summary()\n",
    "\n",
    "# plot the model\n",
    "keras.utils.plot_model(model, \n",
    "                       to_file='mnist_tfk_func_api.png', \n",
    "                       show_shapes=True, \n",
    "                       show_layer_names=True)\n",
    "display.display(display.Image('mnist_tfk_func_api.png'))"
   ]
  },
  {
   "cell_type": "markdown",
   "metadata": {},
   "source": [
    "## TF Keras Model Subclass API "
   ]
  },
  {
   "cell_type": "code",
   "execution_count": 18,
   "metadata": {},
   "outputs": [
    {
     "name": "stdout",
     "output_type": "stream",
     "text": [
      "Epoch 1/5\n",
      "60000/60000 [==============================] - 2s 27us/sample - loss: 2.3624 - accuracy: 0.1015\n",
      "Epoch 2/5\n",
      "60000/60000 [==============================] - 1s 22us/sample - loss: 2.3242 - accuracy: 0.1072\n",
      "Epoch 3/5\n",
      "60000/60000 [==============================] - 1s 22us/sample - loss: 2.3169 - accuracy: 0.1109\n",
      "Epoch 4/5\n",
      "60000/60000 [==============================] - 1s 22us/sample - loss: 2.3132 - accuracy: 0.1143\n",
      "Epoch 5/5\n",
      "60000/60000 [==============================] - 1s 21us/sample - loss: 2.3057 - accuracy: 0.1209\n",
      "10000/10000 [==============================] - 0s 45us/sample - loss: 2.2782 - accuracy: 0.1330\n",
      "\n",
      " loss: 2.2782363204956053\n",
      "\n",
      " accuracy: 0.133\n"
     ]
    }
   ],
   "source": [
    "from tensorflow.keras.layers import Dense, Dropout\n",
    "\n",
    "# define hyperparameters\n",
    "n_neurons = [128, 128]\n",
    "dropout_val = 0.1\n",
    "batch_size = 100\n",
    "n_epochs = 5\n",
    "\n",
    "\n",
    "class TheModel(keras.Model):\n",
    "    def __init__(self, n_inputs, n_outputs):\n",
    "        super(TheModel, self).__init__(name='the_model')\n",
    "        self.n_inputs = n_inputs\n",
    "        self.n_outputs = n_outputs\n",
    "\n",
    "        # Define the layers\n",
    "        self.l_in = Dense(units=n_neurons[0],\n",
    "                          activation='sigmoid',\n",
    "                          input_shape=(n_inputs, ))\n",
    "        self.l_1 = Dropout(dropout_val)\n",
    "        self.l_2 = Dense(units=n_neurons[1], activation='sigmoid')\n",
    "        self.l_3 = Dropout(dropout_val)\n",
    "        self.l_out = Dense(units=n_outputs, activation='softmax')\n",
    "\n",
    "    def call(self, inputs):\n",
    "        # Define the forward pass with the self.l_ layers\n",
    "        x = self.l_in(inputs)\n",
    "        x = self.l_1(x)\n",
    "        x = self.l_2(x)\n",
    "        x = self.l_3(x)\n",
    "        return self.l_out(x)\n",
    "    \n",
    "    def compute_output_shape(self, input_shape):\n",
    "        shape = tf.TensorShape(input_shape).as_list()\n",
    "        shape[-1] = self.n_outputs\n",
    "        return tf.TensorShape(shape)\n",
    "\n",
    "\n",
    "model = TheModel(n_inputs=n_inputs, n_outputs=n_outputs)\n",
    "model.build(input_shape=(batch_size,n_inputs))\n",
    "\n",
    "# compile the model\n",
    "model.compile(loss='sparse_categorical_crossentropy',\n",
    "              optimizer='sgd',\n",
    "              metrics=['accuracy'])\n",
    "\n",
    "# train the model\n",
    "model.fit(x_train, y_train, batch_size=batch_size, epochs=n_epochs)\n",
    "\n",
    "# evaluate the model and print the accuracy score\n",
    "scores = model.evaluate(x_test, y_test)\n",
    "\n",
    "print('\\n loss:', scores[0])\n",
    "print('\\n accuracy:', scores[1])"
   ]
  },
  {
   "cell_type": "code",
   "execution_count": 19,
   "metadata": {},
   "outputs": [
    {
     "name": "stdout",
     "output_type": "stream",
     "text": [
      "Model: \"the_model\"\n",
      "_________________________________________________________________\n",
      "Layer (type)                 Output Shape              Param #   \n",
      "=================================================================\n",
      "dense_12 (Dense)             multiple                  100480    \n",
      "_________________________________________________________________\n",
      "dropout_8 (Dropout)          multiple                  0         \n",
      "_________________________________________________________________\n",
      "dense_13 (Dense)             multiple                  16512     \n",
      "_________________________________________________________________\n",
      "dropout_9 (Dropout)          multiple                  0         \n",
      "_________________________________________________________________\n",
      "dense_14 (Dense)             multiple                  1290      \n",
      "=================================================================\n",
      "Total params: 118,282\n",
      "Trainable params: 118,282\n",
      "Non-trainable params: 0\n",
      "_________________________________________________________________\n"
     ]
    },
    {
     "data": {
      "image/png": "[encoded data removed]",
      "text/plain": [
       "<IPython.core.display.Image object>"
      ]
     },
     "metadata": {},
     "output_type": "display_data"
    }
   ],
   "source": [
    "# print the summary of our model\n",
    "model.summary()\n",
    "\n",
    "# plot the model\n",
    "keras.utils.plot_model(model, \n",
    "                       to_file='mnist_tfk_subclass.png', \n",
    "                       show_shapes=True, \n",
    "                       show_layer_names=True)\n",
    "display.display(display.Image('mnist_tfk_subclass.png'))"
   ]
  }
 ],
 "metadata": {
  "kernelspec": {
   "display_name": "Python 3",
   "language": "python",
   "name": "python3"
  },
  "language_info": {
   "codemirror_mode": {
    "name": "ipython",
    "version": 3
   },
   "file_extension": ".py",
   "mimetype": "text/x-python",
   "name": "python",
   "nbconvert_exporter": "python",
   "pygments_lexer": "ipython3",
   "version": "3.6.8"
  },
  "toc": {
   "base_numbering": 1,
   "nav_menu": {
    "height": "306px",
    "width": "240px"
   },
   "number_sections": true,
   "sideBar": true,
   "skip_h1_title": false,
   "title_cell": "Table of Contents",
   "title_sidebar": "Contents",
   "toc_cell": true,
   "toc_position": {},
   "toc_section_display": "block",
   "toc_window_display": true
  }
 },
 "nbformat": 4,
 "nbformat_minor": 2
}
