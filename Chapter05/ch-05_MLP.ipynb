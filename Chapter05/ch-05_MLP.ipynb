{
 "cells": [
  {
   "cell_type": "markdown",
   "metadata": {
    "toc": true
   },
   "source": [
    "<h1>Table of Contents<span class=\"tocSkip\"></span></h1>\n",
    "<div class=\"toc\" style=\"margin-top: 1em;\"><ul class=\"toc-item\"><li><span><a href=\"#MNIST-Dataset\" data-toc-modified-id=\"MNIST-Dataset-1\"><span class=\"toc-item-num\">1&nbsp;&nbsp;</span>MNIST Dataset</a></span><ul class=\"toc-item\"><li><span><a href=\"#Get-the-MNIST-data\" data-toc-modified-id=\"Get-the-MNIST-data-1.1\"><span class=\"toc-item-num\">1.1&nbsp;&nbsp;</span>Get the MNIST data</a></span></li><li><span><a href=\"#MLP-in-TensorFlow\" data-toc-modified-id=\"MLP-in-TensorFlow-1.2\"><span class=\"toc-item-num\">1.2&nbsp;&nbsp;</span>MLP in TensorFlow</a></span></li><li><span><a href=\"#MLP-in-Keras\" data-toc-modified-id=\"MLP-in-Keras-1.3\"><span class=\"toc-item-num\">1.3&nbsp;&nbsp;</span>MLP in Keras</a></span></li><li><span><a href=\"#MLP-in-TFLearn\" data-toc-modified-id=\"MLP-in-TFLearn-1.4\"><span class=\"toc-item-num\">1.4&nbsp;&nbsp;</span>MLP in TFLearn</a></span></li></ul></li><li><span><a href=\"#TimeSeries-Data---MLP---Keras\" data-toc-modified-id=\"TimeSeries-Data---MLP---Keras-2\"><span class=\"toc-item-num\">2&nbsp;&nbsp;</span>TimeSeries Data - MLP - Keras</a></span><ul class=\"toc-item\"><li><span><a href=\"#Prepare-the-data\" data-toc-modified-id=\"Prepare-the-data-2.1\"><span class=\"toc-item-num\">2.1&nbsp;&nbsp;</span>Prepare the data</a></span></li><li><span><a href=\"#Build,-Train-and-Evaluate-the-Model\" data-toc-modified-id=\"Build,-Train-and-Evaluate-the-Model-2.2\"><span class=\"toc-item-num\">2.2&nbsp;&nbsp;</span>Build, Train and Evaluate the Model</a></span></li></ul></li></ul></div>"
   ]
  },
  {
   "cell_type": "markdown",
   "metadata": {},
   "source": [
    "# MultiLayer Perceptron <a class=\"tocSkip\">"
   ]
  },
  {
   "cell_type": "code",
   "execution_count": 1,
   "metadata": {},
   "outputs": [
    {
     "name": "stdout",
     "output_type": "stream",
     "text": [
      "NumPy:1.13.1\n",
      "Pandas:0.21.0\n",
      "Matplotlib:2.1.0\n",
      "TensorFlow:1.4.1\n"
     ]
    },
    {
     "name": "stderr",
     "output_type": "stream",
     "text": [
      "Using TensorFlow backend.\n"
     ]
    },
    {
     "name": "stdout",
     "output_type": "stream",
     "text": [
      "Keras:2.0.9\n"
     ]
    }
   ],
   "source": [
    "import numpy as np\n",
    "np.random.seed(123)\n",
    "print(\"NumPy:{}\".format(np.__version__))\n",
    "\n",
    "import pandas as pd\n",
    "print(\"Pandas:{}\".format(pd.__version__))\n",
    "\n",
    "import math\n",
    "import os\n",
    "\n",
    "import matplotlib as mpl\n",
    "import matplotlib.pyplot as plt\n",
    "from matplotlib.pylab import rcParams\n",
    "rcParams['figure.figsize'] = 15, 10\n",
    "print(\"Matplotlib:{}\".format(mpl.__version__))\n",
    "\n",
    "import tensorflow as tf\n",
    "tf.set_random_seed(123)\n",
    "print(\"TensorFlow:{}\".format(tf.__version__))\n",
    "\n",
    "import keras\n",
    "print(\"Keras:{}\".format(keras.__version__))"
   ]
  },
  {
   "cell_type": "code",
   "execution_count": 2,
   "metadata": {},
   "outputs": [],
   "source": [
    "DATASETSLIB_HOME = '../datasetslib'\n",
    "import sys\n",
    "if not DATASETSLIB_HOME in sys.path:\n",
    "    sys.path.append(DATASETSLIB_HOME)\n",
    "%reload_ext autoreload\n",
    "%autoreload 2\n",
    "import datasetslib\n",
    "\n",
    "from datasetslib import util as dsu"
   ]
  },
  {
   "cell_type": "code",
   "execution_count": 3,
   "metadata": {},
   "outputs": [],
   "source": [
    "datasetslib.datasets_root = os.path.join(os.path.expanduser('~'),'datasets')"
   ]
  },
  {
   "cell_type": "markdown",
   "metadata": {},
   "source": [
    "# MNIST Dataset"
   ]
  },
  {
   "cell_type": "markdown",
   "metadata": {},
   "source": [
    "## Get the MNIST data"
   ]
  },
  {
   "cell_type": "code",
   "execution_count": 4,
   "metadata": {},
   "outputs": [
    {
     "name": "stdout",
     "output_type": "stream",
     "text": [
      "Extracting /home/armando/datasets/mnist/train-images-idx3-ubyte.gz\n",
      "Extracting /home/armando/datasets/mnist/train-labels-idx1-ubyte.gz\n",
      "Extracting /home/armando/datasets/mnist/t10k-images-idx3-ubyte.gz\n",
      "Extracting /home/armando/datasets/mnist/t10k-labels-idx1-ubyte.gz\n"
     ]
    }
   ],
   "source": [
    "from tensorflow.examples.tutorials.mnist import input_data\n",
    "mnist = input_data.read_data_sets(os.path.join(datasetslib.datasets_root, 'mnist'),\n",
    "                                  one_hot=True)\n",
    "\n",
    "X_train = mnist.train.images\n",
    "X_test = mnist.test.images\n",
    "Y_train = mnist.train.labels\n",
    "Y_test = mnist.test.labels\n",
    "\n",
    "num_outputs = 10  # 0-9 digits\n",
    "num_inputs = 784  # total pixels"
   ]
  },
  {
   "cell_type": "markdown",
   "metadata": {},
   "source": [
    "## MLP in TensorFlow"
   ]
  },
  {
   "cell_type": "code",
   "execution_count": 5,
   "metadata": {},
   "outputs": [],
   "source": [
    "tf.reset_default_graph()"
   ]
  },
  {
   "cell_type": "code",
   "execution_count": 6,
   "metadata": {},
   "outputs": [],
   "source": [
    "def mlp(x, num_inputs, num_outputs, num_layers, num_neurons):\n",
    "    w = []\n",
    "    b = []\n",
    "    for i in range(num_layers):\n",
    "        # weights\n",
    "        w.append(tf.Variable(tf.random_normal(\n",
    "            [num_inputs if i == 0 else num_neurons[i - 1],\n",
    "             num_neurons[i]]),\n",
    "            name=\"w_{0:04d}\".format(i)\n",
    "        ))\n",
    "        # biases\n",
    "        b.append(tf.Variable(tf.random_normal(\n",
    "            [num_neurons[i]]),\n",
    "            name=\"b_{0:04d}\".format(i)\n",
    "        ))\n",
    "    w.append(tf.Variable(tf.random_normal(\n",
    "        [num_neurons[num_layers - 1] if num_layers > 0 else num_inputs,\n",
    "         num_outputs]), name=\"w_out\"))\n",
    "    b.append(tf.Variable(tf.random_normal([num_outputs]), name=\"b_out\"))\n",
    "\n",
    "    # x is input layer\n",
    "    layer = x\n",
    "    # add hidden layers\n",
    "    for i in range(num_layers):\n",
    "        layer = tf.nn.relu(tf.matmul(layer, w[i]) + b[i])\n",
    "    # add output layer\n",
    "    layer = tf.matmul(layer, w[num_layers]) + b[num_layers]\n",
    "\n",
    "    return layer\n",
    "\n",
    "\n",
    "def mnist_batch_func(batch_size=100):\n",
    "    X_batch, Y_batch = mnist.train.next_batch(batch_size)\n",
    "    return [X_batch, Y_batch]\n",
    "\n",
    "\n",
    "def tensorflow_classification(n_epochs, n_batches,\n",
    "                              batch_size, batch_func,\n",
    "                              model, optimizer, loss, accuracy_function,\n",
    "                              X_test, Y_test):\n",
    "    with tf.Session() as tfs:\n",
    "        tfs.run(tf.global_variables_initializer())\n",
    "        for epoch in range(n_epochs):\n",
    "            epoch_loss = 0.0\n",
    "            for batch in range(n_batches):\n",
    "                X_batch, Y_batch = batch_func(batch_size)\n",
    "                feed_dict = {x: X_batch, y: Y_batch}\n",
    "                _, batch_loss = tfs.run([optimizer, loss], feed_dict)\n",
    "                epoch_loss += batch_loss\n",
    "            average_loss = epoch_loss / n_batches\n",
    "            print(\"epoch: {0:04d}   loss = {1:0.6f}\".format(\n",
    "                epoch, average_loss))\n",
    "        feed_dict = {x: X_test, y: Y_test}\n",
    "        accuracy_score = tfs.run(accuracy_function, feed_dict=feed_dict)\n",
    "        print(\"accuracy={0:.8f}\".format(accuracy_score))"
   ]
  },
  {
   "cell_type": "code",
   "execution_count": 7,
   "metadata": {},
   "outputs": [],
   "source": [
    "tf.reset_default_graph()"
   ]
  },
  {
   "cell_type": "code",
   "execution_count": 8,
   "metadata": {
    "scrolled": false
   },
   "outputs": [
    {
     "name": "stdout",
     "output_type": "stream",
     "text": [
      "epoch: 0000   loss = 7.491668\n",
      "epoch: 0001   loss = 3.908349\n",
      "epoch: 0002   loss = 2.794077\n",
      "epoch: 0003   loss = 2.264191\n",
      "epoch: 0004   loss = 1.955824\n",
      "epoch: 0005   loss = 1.750978\n",
      "epoch: 0006   loss = 1.603038\n",
      "epoch: 0007   loss = 1.490393\n",
      "epoch: 0008   loss = 1.400775\n",
      "epoch: 0009   loss = 1.327607\n",
      "epoch: 0010   loss = 1.266715\n",
      "epoch: 0011   loss = 1.214638\n",
      "epoch: 0012   loss = 1.169770\n",
      "epoch: 0013   loss = 1.130588\n",
      "epoch: 0014   loss = 1.095825\n",
      "epoch: 0015   loss = 1.064962\n",
      "epoch: 0016   loss = 1.037070\n",
      "epoch: 0017   loss = 1.011957\n",
      "epoch: 0018   loss = 0.988953\n",
      "epoch: 0019   loss = 0.967982\n",
      "epoch: 0020   loss = 0.948582\n",
      "epoch: 0021   loss = 0.930625\n",
      "epoch: 0022   loss = 0.913919\n",
      "epoch: 0023   loss = 0.898365\n",
      "epoch: 0024   loss = 0.883875\n",
      "epoch: 0025   loss = 0.870166\n",
      "epoch: 0026   loss = 0.857348\n",
      "epoch: 0027   loss = 0.845170\n",
      "epoch: 0028   loss = 0.833719\n",
      "epoch: 0029   loss = 0.822812\n",
      "epoch: 0030   loss = 0.812524\n",
      "epoch: 0031   loss = 0.802684\n",
      "epoch: 0032   loss = 0.793317\n",
      "epoch: 0033   loss = 0.784293\n",
      "epoch: 0034   loss = 0.775810\n",
      "epoch: 0035   loss = 0.767600\n",
      "epoch: 0036   loss = 0.759703\n",
      "epoch: 0037   loss = 0.752162\n",
      "epoch: 0038   loss = 0.744951\n",
      "epoch: 0039   loss = 0.737986\n",
      "epoch: 0040   loss = 0.731228\n",
      "epoch: 0041   loss = 0.724712\n",
      "epoch: 0042   loss = 0.718490\n",
      "epoch: 0043   loss = 0.712376\n",
      "epoch: 0044   loss = 0.706619\n",
      "epoch: 0045   loss = 0.700918\n",
      "epoch: 0046   loss = 0.695488\n",
      "epoch: 0047   loss = 0.690177\n",
      "epoch: 0048   loss = 0.684984\n",
      "epoch: 0049   loss = 0.680007\n",
      "accuracy=0.85839999\n"
     ]
    }
   ],
   "source": [
    "num_layers = 0\n",
    "num_neurons = []\n",
    "learning_rate = 0.01\n",
    "n_epochs = 50\n",
    "batch_size = 100\n",
    "n_batches = int(mnist.train.num_examples / batch_size)\n",
    "\n",
    "# input images\n",
    "x = tf.placeholder(dtype=tf.float32, name=\"x\", shape=[None, num_inputs])\n",
    "# target output\n",
    "y = tf.placeholder(dtype=tf.float32, name=\"y\", shape=[None, num_outputs])\n",
    "\n",
    "model = mlp(x=x,\n",
    "            num_inputs=num_inputs,\n",
    "            num_outputs=num_outputs,\n",
    "            num_layers=num_layers,\n",
    "            num_neurons=num_neurons)\n",
    "\n",
    "# loss function\n",
    "loss = tf.reduce_mean(\n",
    "    tf.nn.softmax_cross_entropy_with_logits(logits=model, labels=y))\n",
    "# optimizer function\n",
    "optimizer = tf.train.GradientDescentOptimizer(\n",
    "    learning_rate=learning_rate).minimize(loss)\n",
    "\n",
    "predictions_check = tf.equal(tf.argmax(model, 1), tf.argmax(y, 1))\n",
    "accuracy_function = tf.reduce_mean(tf.cast(predictions_check, tf.float32))\n",
    "\n",
    "tensorflow_classification(n_epochs=n_epochs,\n",
    "                          n_batches=n_batches,\n",
    "                          batch_size=batch_size,\n",
    "                          batch_func=mnist_batch_func,\n",
    "                          model=model,\n",
    "                          optimizer=optimizer,\n",
    "                          loss=loss,\n",
    "                          accuracy_function=accuracy_function,\n",
    "                          X_test=mnist.test.images,\n",
    "                          Y_test=mnist.test.labels\n",
    "                          )"
   ]
  },
  {
   "cell_type": "code",
   "execution_count": null,
   "metadata": {},
   "outputs": [],
   "source": [
    "tf.reset_default_graph()"
   ]
  },
  {
   "cell_type": "code",
   "execution_count": 9,
   "metadata": {},
   "outputs": [
    {
     "name": "stdout",
     "output_type": "stream",
     "text": [
      "epoch: 0000   loss = 3.851788\n",
      "epoch: 0001   loss = 2.114732\n",
      "epoch: 0002   loss = 1.894171\n",
      "epoch: 0003   loss = 1.761148\n",
      "epoch: 0004   loss = 1.662571\n",
      "epoch: 0005   loss = 1.584341\n",
      "epoch: 0006   loss = 1.517234\n",
      "epoch: 0007   loss = 1.457294\n",
      "epoch: 0008   loss = 1.403464\n",
      "epoch: 0009   loss = 1.354691\n",
      "epoch: 0010   loss = 1.312416\n",
      "epoch: 0011   loss = 1.273898\n",
      "epoch: 0012   loss = 1.239152\n",
      "epoch: 0013   loss = 1.206502\n",
      "epoch: 0014   loss = 1.176297\n",
      "epoch: 0015   loss = 1.148401\n",
      "epoch: 0016   loss = 1.122185\n",
      "epoch: 0017   loss = 1.097026\n",
      "epoch: 0018   loss = 1.073471\n",
      "epoch: 0019   loss = 1.051004\n",
      "epoch: 0020   loss = 1.029461\n",
      "epoch: 0021   loss = 1.009632\n",
      "epoch: 0022   loss = 0.989540\n",
      "epoch: 0023   loss = 0.971279\n",
      "epoch: 0024   loss = 0.952962\n",
      "epoch: 0025   loss = 0.936031\n",
      "epoch: 0026   loss = 0.919507\n",
      "epoch: 0027   loss = 0.903426\n",
      "epoch: 0028   loss = 0.888240\n",
      "epoch: 0029   loss = 0.874427\n",
      "epoch: 0030   loss = 0.860783\n",
      "epoch: 0031   loss = 0.847125\n",
      "epoch: 0032   loss = 0.834888\n",
      "epoch: 0033   loss = 0.822618\n",
      "epoch: 0034   loss = 0.811797\n",
      "epoch: 0035   loss = 0.800891\n",
      "epoch: 0036   loss = 0.789839\n",
      "epoch: 0037   loss = 0.779291\n",
      "epoch: 0038   loss = 0.769334\n",
      "epoch: 0039   loss = 0.761471\n",
      "epoch: 0040   loss = 0.752539\n",
      "epoch: 0041   loss = 0.743730\n",
      "epoch: 0042   loss = 0.736128\n",
      "epoch: 0043   loss = 0.727911\n",
      "epoch: 0044   loss = 0.720838\n",
      "epoch: 0045   loss = 0.713911\n",
      "epoch: 0046   loss = 0.706783\n",
      "epoch: 0047   loss = 0.700683\n",
      "epoch: 0048   loss = 0.694144\n",
      "epoch: 0049   loss = 0.687741\n",
      "accuracy=0.78549999\n"
     ]
    }
   ],
   "source": [
    "num_layers = 1 \n",
    "num_neurons = []\n",
    "for i in range(num_layers):\n",
    "    num_neurons.append(8)\n",
    "    \n",
    "learning_rate = 0.01\n",
    "n_epochs = 50\n",
    "batch_size = 100\n",
    "n_batches = int(mnist.train.num_examples/batch_size)\n",
    "\n",
    "# input images\n",
    "x = tf.placeholder(dtype=tf.float32, name=\"x\", shape=[None, num_inputs]) \n",
    "# target output\n",
    "y = tf.placeholder(dtype=tf.float32, name=\"y\", shape=[None, num_outputs]) \n",
    "\n",
    "model = mlp(x=x, \n",
    "            num_inputs=num_inputs, \n",
    "            num_outputs=num_outputs, \n",
    "            num_layers=num_layers, \n",
    "            num_neurons=num_neurons)\n",
    "\n",
    "# loss function\n",
    "#loss = tf.reduce_mean(-tf.reduce_sum(y * tf.log(model), axis=1))\n",
    "loss = tf.reduce_mean(tf.nn.softmax_cross_entropy_with_logits(logits=model, labels=y))\n",
    "# optimizer function\n",
    "optimizer = tf.train.GradientDescentOptimizer(learning_rate=learning_rate).minimize(loss)\n",
    "predictions_check = tf.equal(tf.argmax(model,1), tf.argmax(y,1))\n",
    "accuracy_function = tf.reduce_mean(tf.cast(predictions_check, tf.float32))\n",
    "\n",
    "tensorflow_classification(n_epochs=n_epochs, \n",
    "                          n_batches=n_batches, \n",
    "                          batch_size=batch_size, \n",
    "                          batch_func=mnist_batch_func, \n",
    "                          model = model, \n",
    "                          optimizer = optimizer, \n",
    "                          loss = loss, \n",
    "                          accuracy_function = accuracy_function, \n",
    "                          X_test = mnist.test.images, \n",
    "                          Y_test = mnist.test.labels\n",
    "                         )"
   ]
  },
  {
   "cell_type": "code",
   "execution_count": null,
   "metadata": {},
   "outputs": [],
   "source": [
    "tf.reset_default_graph()"
   ]
  },
  {
   "cell_type": "code",
   "execution_count": 10,
   "metadata": {},
   "outputs": [
    {
     "name": "stdout",
     "output_type": "stream",
     "text": [
      "epoch: 0000   loss = 57.009780\n",
      "epoch: 0001   loss = 10.813600\n",
      "epoch: 0002   loss = 6.615101\n",
      "epoch: 0003   loss = 4.692290\n",
      "epoch: 0004   loss = 3.588678\n",
      "epoch: 0005   loss = 2.884803\n",
      "epoch: 0006   loss = 2.387677\n",
      "epoch: 0007   loss = 1.995401\n",
      "epoch: 0008   loss = 1.740001\n",
      "epoch: 0009   loss = 1.499358\n",
      "epoch: 0010   loss = 1.322210\n",
      "epoch: 0011   loss = 1.172742\n",
      "epoch: 0012   loss = 1.049592\n",
      "epoch: 0013   loss = 0.942527\n",
      "epoch: 0014   loss = 0.862378\n",
      "epoch: 0015   loss = 0.787306\n",
      "epoch: 0016   loss = 0.707988\n",
      "epoch: 0017   loss = 0.662152\n",
      "epoch: 0018   loss = 0.607828\n",
      "epoch: 0019   loss = 0.567524\n",
      "epoch: 0020   loss = 0.524560\n",
      "epoch: 0021   loss = 0.497883\n",
      "epoch: 0022   loss = 0.457042\n",
      "epoch: 0023   loss = 0.427090\n",
      "epoch: 0024   loss = 0.401433\n",
      "epoch: 0025   loss = 0.380523\n",
      "epoch: 0026   loss = 0.362819\n",
      "epoch: 0027   loss = 0.336290\n",
      "epoch: 0028   loss = 0.329078\n",
      "epoch: 0029   loss = 0.305773\n",
      "epoch: 0030   loss = 0.299001\n",
      "epoch: 0031   loss = 0.281987\n",
      "epoch: 0032   loss = 0.271549\n",
      "epoch: 0033   loss = 0.253623\n",
      "epoch: 0034   loss = 0.246762\n",
      "epoch: 0035   loss = 0.237055\n",
      "epoch: 0036   loss = 0.226002\n",
      "epoch: 0037   loss = 0.218444\n",
      "epoch: 0038   loss = 0.207164\n",
      "epoch: 0039   loss = 0.199074\n",
      "epoch: 0040   loss = 0.191770\n",
      "epoch: 0041   loss = 0.185025\n",
      "epoch: 0042   loss = 0.177670\n",
      "epoch: 0043   loss = 0.171877\n",
      "epoch: 0044   loss = 0.165402\n",
      "epoch: 0045   loss = 0.162404\n",
      "epoch: 0046   loss = 0.153599\n",
      "epoch: 0047   loss = 0.149050\n",
      "epoch: 0048   loss = 0.142101\n",
      "epoch: 0049   loss = 0.140333\n",
      "accuracy=0.91720003\n"
     ]
    }
   ],
   "source": [
    "num_layers = 2\n",
    "num_neurons = []\n",
    "for i in range(num_layers):\n",
    "    num_neurons.append(256)\n",
    "    \n",
    "learning_rate = 0.01\n",
    "n_epochs = 50\n",
    "batch_size = 100\n",
    "n_batches = int(mnist.train.num_examples/batch_size)\n",
    "\n",
    "# input images\n",
    "x = tf.placeholder(dtype=tf.float32, name=\"x\", shape=[None, num_inputs]) \n",
    "# target output\n",
    "y = tf.placeholder(dtype=tf.float32, name=\"y\", shape=[None, num_outputs]) \n",
    "\n",
    "model = mlp(x=x, \n",
    "            num_inputs=num_inputs, \n",
    "            num_outputs=num_outputs, \n",
    "            num_layers=num_layers, \n",
    "            num_neurons=num_neurons)\n",
    "\n",
    "# loss function\n",
    "#loss = tf.reduce_mean(-tf.reduce_sum(y * tf.log(model), axis=1))\n",
    "loss = tf.reduce_mean(tf.nn.softmax_cross_entropy_with_logits(logits=model, \n",
    "                                                              labels=y))\n",
    "# optimizer function\n",
    "optimizer = tf.train.GradientDescentOptimizer(learning_rate=learning_rate).minimize(loss)\n",
    "\n",
    "predictions_check = tf.equal(tf.argmax(model,1), tf.argmax(y,1))\n",
    "accuracy_function = tf.reduce_mean(tf.cast(predictions_check, tf.float32))\n",
    "\n",
    "tensorflow_classification(n_epochs=n_epochs, \n",
    "                          n_batches=n_batches, \n",
    "                          batch_size=batch_size, \n",
    "                          batch_func=mnist_batch_func, \n",
    "                          model = model, \n",
    "                          optimizer = optimizer, \n",
    "                          loss = loss, \n",
    "                          accuracy_function = accuracy_function, \n",
    "                          X_test = mnist.test.images, \n",
    "                          Y_test = mnist.test.labels\n",
    "                         )"
   ]
  },
  {
   "cell_type": "markdown",
   "metadata": {},
   "source": [
    "## MLP in Keras\n"
   ]
  },
  {
   "cell_type": "code",
   "execution_count": 11,
   "metadata": {},
   "outputs": [],
   "source": [
    "import keras\n",
    "from keras.models import Sequential\n",
    "from keras.layers import Dense\n",
    "from keras.optimizers import SGD"
   ]
  },
  {
   "cell_type": "code",
   "execution_count": 12,
   "metadata": {},
   "outputs": [],
   "source": [
    "tf.reset_default_graph()\n",
    "keras.backend.clear_session()"
   ]
  },
  {
   "cell_type": "code",
   "execution_count": 13,
   "metadata": {},
   "outputs": [
    {
     "name": "stdout",
     "output_type": "stream",
     "text": [
      "_________________________________________________________________\n",
      "Layer (type)                 Output Shape              Param #   \n",
      "=================================================================\n",
      "dense_1 (Dense)              (None, 256)               200960    \n",
      "_________________________________________________________________\n",
      "dense_2 (Dense)              (None, 256)               65792     \n",
      "_________________________________________________________________\n",
      "dense_3 (Dense)              (None, 10)                2570      \n",
      "=================================================================\n",
      "Total params: 269,322\n",
      "Trainable params: 269,322\n",
      "Non-trainable params: 0\n",
      "_________________________________________________________________\n",
      "Epoch 1/50\n",
      "55000/55000 [==============================] - 2s 33us/step - loss: 1.0688 - acc: 0.7467\n",
      "Epoch 2/50\n",
      "55000/55000 [==============================] - 1s 23us/step - loss: 0.4358 - acc: 0.8813\n",
      "Epoch 3/50\n",
      "55000/55000 [==============================] - 1s 27us/step - loss: 0.3535 - acc: 0.9003\n",
      "Epoch 4/50\n",
      "55000/55000 [==============================] - 1s 22us/step - loss: 0.3147 - acc: 0.9103\n",
      "Epoch 5/50\n",
      "55000/55000 [==============================] - 1s 24us/step - loss: 0.2888 - acc: 0.9180\n",
      "Epoch 6/50\n",
      "55000/55000 [==============================] - 1s 27us/step - loss: 0.2689 - acc: 0.9239\n",
      "Epoch 7/50\n",
      "55000/55000 [==============================] - 2s 34us/step - loss: 0.2526 - acc: 0.9279\n",
      "Epoch 8/50\n",
      "55000/55000 [==============================] - 1s 27us/step - loss: 0.2385 - acc: 0.9322\n",
      "Epoch 9/50\n",
      "55000/55000 [==============================] - 2s 43us/step - loss: 0.2255 - acc: 0.9356\n",
      "Epoch 10/50\n",
      "55000/55000 [==============================] - 2s 33us/step - loss: 0.2143 - acc: 0.9391\n",
      "Epoch 11/50\n",
      "55000/55000 [==============================] - ETA: 0s - loss: 0.2043 - acc: 0.941 - 1s 22us/step - loss: 0.2039 - acc: 0.9419\n",
      "Epoch 12/50\n",
      "55000/55000 [==============================] - 2s 34us/step - loss: 0.1946 - acc: 0.9451\n",
      "Epoch 13/50\n",
      "55000/55000 [==============================] - 1s 27us/step - loss: 0.1857 - acc: 0.9475\n",
      "Epoch 14/50\n",
      "55000/55000 [==============================] - 1s 25us/step - loss: 0.1780 - acc: 0.9499\n",
      "Epoch 15/50\n",
      "55000/55000 [==============================] - 2s 28us/step - loss: 0.1705 - acc: 0.9517\n",
      "Epoch 16/50\n",
      "55000/55000 [==============================] - 2s 34us/step - loss: 0.1635 - acc: 0.9538\n",
      "Epoch 17/50\n",
      "55000/55000 [==============================] - 1s 26us/step - loss: 0.1570 - acc: 0.9551\n",
      "Epoch 18/50\n",
      "55000/55000 [==============================] - 1s 25us/step - loss: 0.1511 - acc: 0.9572\n",
      "Epoch 19/50\n",
      "55000/55000 [==============================] - 1s 23us/step - loss: 0.1455 - acc: 0.9588\n",
      "Epoch 20/50\n",
      "55000/55000 [==============================] - 1s 25us/step - loss: 0.1401 - acc: 0.9604\n",
      "Epoch 21/50\n",
      "55000/55000 [==============================] - 1s 23us/step - loss: 0.1351 - acc: 0.9615\n",
      "Epoch 22/50\n",
      "55000/55000 [==============================] - 1s 27us/step - loss: 0.1306 - acc: 0.9631\n",
      "Epoch 23/50\n",
      "55000/55000 [==============================] - 2s 31us/step - loss: 0.1265 - acc: 0.9646\n",
      "Epoch 24/50\n",
      "55000/55000 [==============================] - 1s 26us/step - loss: 0.1220 - acc: 0.9662\n",
      "Epoch 25/50\n",
      "55000/55000 [==============================] - 2s 40us/step - loss: 0.1183 - acc: 0.9672\n",
      "Epoch 26/50\n",
      "55000/55000 [==============================] - 2s 30us/step - loss: 0.1145 - acc: 0.9683\n",
      "Epoch 27/50\n",
      "55000/55000 [==============================] - 2s 30us/step - loss: 0.1110 - acc: 0.9692\n",
      "Epoch 28/50\n",
      "55000/55000 [==============================] - 2s 29us/step - loss: 0.1077 - acc: 0.9697\n",
      "Epoch 29/50\n",
      "55000/55000 [==============================] - 2s 31us/step - loss: 0.1046 - acc: 0.9711\n",
      "Epoch 30/50\n",
      "55000/55000 [==============================] - 2s 29us/step - loss: 0.1014 - acc: 0.9720\n",
      "Epoch 31/50\n",
      "55000/55000 [==============================] - 2s 27us/step - loss: 0.0986 - acc: 0.9726\n",
      "Epoch 32/50\n",
      "55000/55000 [==============================] - 1s 25us/step - loss: 0.0960 - acc: 0.9734\n",
      "Epoch 33/50\n",
      "55000/55000 [==============================] - 1s 27us/step - loss: 0.0932 - acc: 0.9742\n",
      "Epoch 34/50\n",
      "55000/55000 [==============================] - 2s 32us/step - loss: 0.0907 - acc: 0.9747\n",
      "Epoch 35/50\n",
      "55000/55000 [==============================] - 1s 26us/step - loss: 0.0883 - acc: 0.9755\n",
      "Epoch 36/50\n",
      "55000/55000 [==============================] - 2s 32us/step - loss: 0.0860 - acc: 0.9760\n",
      "Epoch 37/50\n",
      "55000/55000 [==============================] - 2s 32us/step - loss: 0.0837 - acc: 0.9771\n",
      "Epoch 38/50\n",
      "55000/55000 [==============================] - 2s 29us/step - loss: 0.0816 - acc: 0.9775\n",
      "Epoch 39/50\n",
      "55000/55000 [==============================] - 2s 30us/step - loss: 0.0795 - acc: 0.9780\n",
      "Epoch 40/50\n",
      "55000/55000 [==============================] - 1s 25us/step - loss: 0.0776 - acc: 0.9787\n",
      "Epoch 41/50\n",
      "55000/55000 [==============================] - 1s 22us/step - loss: 0.0756 - acc: 0.9793\n",
      "Epoch 42/50\n",
      "55000/55000 [==============================] - 2s 37us/step - loss: 0.0736 - acc: 0.9803\n",
      "Epoch 43/50\n",
      "55000/55000 [==============================] - 2s 33us/step - loss: 0.0719 - acc: 0.9804\n",
      "Epoch 44/50\n",
      "55000/55000 [==============================] - 2s 29us/step - loss: 0.0704 - acc: 0.9809\n",
      "Epoch 45/50\n",
      "55000/55000 [==============================] - 1s 25us/step - loss: 0.0687 - acc: 0.9813\n",
      "Epoch 46/50\n",
      "55000/55000 [==============================] - 1s 24us/step - loss: 0.0671 - acc: 0.9820\n",
      "Epoch 47/50\n",
      "55000/55000 [==============================] - 1s 25us/step - loss: 0.0656 - acc: 0.9824\n",
      "Epoch 48/50\n",
      "55000/55000 [==============================] - 1s 26us/step - loss: 0.0642 - acc: 0.9829\n",
      "Epoch 49/50\n",
      "55000/55000 [==============================] - 1s 25us/step - loss: 0.0626 - acc: 0.9836\n",
      "Epoch 50/50\n",
      "55000/55000 [==============================] - 1s 24us/step - loss: 0.0613 - acc: 0.9837\n",
      "10000/10000 [==============================] - 0s 38us/step\n",
      "\n",
      "Test loss: 0.0851079749593\n",
      "Test accuracy: 0.9732\n"
     ]
    }
   ],
   "source": [
    "num_layers = 2\n",
    "num_neurons = []\n",
    "for i in range(num_layers):\n",
    "    num_neurons.append(256)\n",
    "    \n",
    "learning_rate = 0.01\n",
    "n_epochs = 50\n",
    "batch_size = 100\n",
    "\n",
    "model = Sequential()\n",
    "model.add(Dense(units=num_neurons[0], activation='relu', \n",
    "                input_shape=(num_inputs,)))\n",
    "model.add(Dense(units=num_neurons[1], activation='relu'))\n",
    "model.add(Dense(units=num_outputs, activation='softmax'))\n",
    "model.summary()\n",
    "\n",
    "model.compile(loss='categorical_crossentropy',\n",
    "              optimizer=SGD(lr=learning_rate),\n",
    "              metrics=['accuracy'])\n",
    "\n",
    "model.fit(X_train, Y_train,\n",
    "                    batch_size=batch_size,\n",
    "                    epochs=n_epochs)\n",
    "\n",
    "score = model.evaluate(X_test, Y_test)\n",
    "print('\\nTest loss:', score[0])\n",
    "print('Test accuracy:', score[1])"
   ]
  },
  {
   "cell_type": "markdown",
   "metadata": {},
   "source": [
    "## MLP in TFLearn"
   ]
  },
  {
   "cell_type": "code",
   "execution_count": 14,
   "metadata": {},
   "outputs": [],
   "source": [
    "import tflearn"
   ]
  },
  {
   "cell_type": "code",
   "execution_count": 15,
   "metadata": {},
   "outputs": [],
   "source": [
    "tf.reset_default_graph()"
   ]
  },
  {
   "cell_type": "code",
   "execution_count": 16,
   "metadata": {},
   "outputs": [
    {
     "name": "stdout",
     "output_type": "stream",
     "text": [
      "Training Step: 27499  | total loss: \u001b[1m\u001b[32m0.10358\u001b[0m\u001b[0m | time: 2.698s\n",
      "| SGD | epoch: 050 | loss: 0.10358 - acc: 0.9742 -- iter: 54900/55000\n",
      "Training Step: 27500  | total loss: \u001b[1m\u001b[32m0.10037\u001b[0m\u001b[0m | time: 2.702s\n",
      "| SGD | epoch: 050 | loss: 0.10037 - acc: 0.9738 -- iter: 55000/55000\n",
      "--\n",
      "Test accuracy: 0.9657\n"
     ]
    }
   ],
   "source": [
    "num_layers = 2\n",
    "num_neurons = []\n",
    "for i in range(num_layers):\n",
    "    num_neurons.append(256)\n",
    "    \n",
    "learning_rate = 0.01\n",
    "n_epochs = 50\n",
    "batch_size = 100\n",
    "\n",
    "# Build deep neural network\n",
    "input_layer = tflearn.input_data(shape=[None, num_inputs])\n",
    "dense1 = tflearn.fully_connected(input_layer, num_neurons[0], activation='relu')\n",
    "dense2 = tflearn.fully_connected(dense1, num_neurons[1], activation='relu')\n",
    "softmax = tflearn.fully_connected(dense2, num_outputs, activation='softmax')\n",
    "\n",
    "optimizer = tflearn.SGD(learning_rate=learning_rate)\n",
    "net = tflearn.regression(softmax, optimizer=optimizer, \n",
    "                         metric=tflearn.metrics.Accuracy(), \n",
    "                         loss='categorical_crossentropy')\n",
    "model = tflearn.DNN(net)\n",
    "\n",
    "model.fit(X_train, Y_train, \n",
    "          n_epoch=n_epochs, batch_size=batch_size, \n",
    "          show_metric=True, run_id='dense_model')\n",
    "\n",
    "score = model.evaluate(X_test, Y_test)\n",
    "print('Test accuracy:', score[0])"
   ]
  },
  {
   "cell_type": "markdown",
   "metadata": {},
   "source": [
    "# TimeSeries Data - MLP - Keras"
   ]
  },
  {
   "cell_type": "markdown",
   "metadata": {},
   "source": [
    "## Prepare the data"
   ]
  },
  {
   "cell_type": "code",
   "execution_count": 17,
   "metadata": {},
   "outputs": [],
   "source": [
    "import os\n",
    "\n",
    "dataframe = pd.read_csv(os.path.join(datasetslib.datasets_root, \n",
    "                                     'ts-data', \n",
    "                                     'international-airline-passengers-cleaned.csv'), \n",
    "                        usecols=[1],header=0)\n",
    "dataset = dataframe.values\n",
    "dataset = dataset.astype('float32')"
   ]
  },
  {
   "cell_type": "code",
   "execution_count": 18,
   "metadata": {},
   "outputs": [],
   "source": [
    "# normalize the dataset\n",
    "#scaler = skpp.MinMaxScaler(feature_range=(0, 1))\n",
    "#normalized_dataset = scaler.fit_transform(dataset)"
   ]
  },
  {
   "cell_type": "code",
   "execution_count": 19,
   "metadata": {},
   "outputs": [
    {
     "name": "stdout",
     "output_type": "stream",
     "text": [
      "96 48\n"
     ]
    }
   ],
   "source": [
    "# split into train and test sets\n",
    "train,test=dsu.train_test_split(dataset,train_size=0.67)\n",
    "print(len(train), len(test))"
   ]
  },
  {
   "cell_type": "code",
   "execution_count": 20,
   "metadata": {},
   "outputs": [],
   "source": [
    "# reshape into X=t-1,t and Y=t+1\n",
    "n_x=2\n",
    "n_y=1\n",
    "\n",
    "X_train, Y_train, X_test, Y_test = dsu.mvts_to_xy(train,test,n_x=n_x,n_y=n_y)"
   ]
  },
  {
   "cell_type": "markdown",
   "metadata": {},
   "source": [
    "## Build, Train and Evaluate the Model"
   ]
  },
  {
   "cell_type": "code",
   "execution_count": 21,
   "metadata": {},
   "outputs": [],
   "source": [
    "from keras.models import Sequential\n",
    "from keras.layers import Dense\n",
    "from keras.optimizers import SGD"
   ]
  },
  {
   "cell_type": "code",
   "execution_count": 22,
   "metadata": {},
   "outputs": [],
   "source": [
    "tf.reset_default_graph()\n",
    "keras.backend.clear_session()"
   ]
  },
  {
   "cell_type": "code",
   "execution_count": 23,
   "metadata": {
    "scrolled": true
   },
   "outputs": [
    {
     "name": "stdout",
     "output_type": "stream",
     "text": [
      "_________________________________________________________________\n",
      "Layer (type)                 Output Shape              Param #   \n",
      "=================================================================\n",
      "dense_1 (Dense)              (None, 8)                 24        \n",
      "_________________________________________________________________\n",
      "dense_2 (Dense)              (None, 8)                 72        \n",
      "_________________________________________________________________\n",
      "dense_3 (Dense)              (None, 1)                 9         \n",
      "=================================================================\n",
      "Total params: 105\n",
      "Trainable params: 105\n",
      "Non-trainable params: 0\n",
      "_________________________________________________________________\n",
      "Epoch 1/50\n",
      "94/94 [==============================] - 0s 3ms/step - loss: 15880.3084\n",
      "Epoch 2/50\n",
      "94/94 [==============================] - 0s 1ms/step - loss: 1441.5636\n",
      "Epoch 3/50\n",
      "94/94 [==============================] - 0s 2ms/step - loss: 870.2610\n",
      "Epoch 4/50\n",
      "94/94 [==============================] - 0s 1ms/step - loss: 801.9499\n",
      "Epoch 5/50\n",
      "94/94 [==============================] - 0s 1ms/step - loss: 787.1083\n",
      "Epoch 6/50\n",
      "94/94 [==============================] - 0s 1ms/step - loss: 787.0693\n",
      "Epoch 7/50\n",
      "94/94 [==============================] - 0s 1ms/step - loss: 795.1727\n",
      "Epoch 8/50\n",
      "94/94 [==============================] - 0s 1ms/step - loss: 768.0917\n",
      "Epoch 9/50\n",
      "94/94 [==============================] - 0s 1ms/step - loss: 765.6954\n",
      "Epoch 10/50\n",
      "94/94 [==============================] - 0s 1ms/step - loss: 756.2900\n",
      "Epoch 11/50\n",
      "94/94 [==============================] - 0s 2ms/step - loss: 778.3619\n",
      "Epoch 12/50\n",
      "94/94 [==============================] - 0s 3ms/step - loss: 727.6555\n",
      "Epoch 13/50\n",
      "94/94 [==============================] - 0s 2ms/step - loss: 738.8206\n",
      "Epoch 14/50\n",
      "94/94 [==============================] - 0s 1ms/step - loss: 732.2786\n",
      "Epoch 15/50\n",
      "94/94 [==============================] - 0s 1ms/step - loss: 732.9928\n",
      "Epoch 16/50\n",
      "94/94 [==============================] - 0s 1ms/step - loss: 694.7535\n",
      "Epoch 17/50\n",
      "94/94 [==============================] - 0s 1ms/step - loss: 673.0786\n",
      "Epoch 18/50\n",
      "94/94 [==============================] - 0s 1ms/step - loss: 649.3142\n",
      "Epoch 19/50\n",
      "94/94 [==============================] - 0s 1ms/step - loss: 637.9076\n",
      "Epoch 20/50\n",
      "94/94 [==============================] - 0s 1ms/step - loss: 648.8758\n",
      "Epoch 21/50\n",
      "94/94 [==============================] - 0s 1ms/step - loss: 634.4625\n",
      "Epoch 22/50\n",
      "94/94 [==============================] - 0s 1ms/step - loss: 634.2620\n",
      "Epoch 23/50\n",
      "94/94 [==============================] - 0s 1ms/step - loss: 631.8104\n",
      "Epoch 24/50\n",
      "94/94 [==============================] - 0s 1ms/step - loss: 599.2873\n",
      "Epoch 25/50\n",
      "94/94 [==============================] - 0s 2ms/step - loss: 570.5794\n",
      "Epoch 26/50\n",
      "94/94 [==============================] - 0s 1ms/step - loss: 586.0483\n",
      "Epoch 27/50\n",
      "94/94 [==============================] - 0s 1ms/step - loss: 585.8921\n",
      "Epoch 28/50\n",
      "94/94 [==============================] - 0s 1ms/step - loss: 572.2039\n",
      "Epoch 29/50\n",
      "94/94 [==============================] - 0s 1ms/step - loss: 584.0046\n",
      "Epoch 30/50\n",
      "94/94 [==============================] - 0s 2ms/step - loss: 581.3135\n",
      "Epoch 31/50\n",
      "94/94 [==============================] - 0s 2ms/step - loss: 566.6134\n",
      "Epoch 32/50\n",
      "94/94 [==============================] - 0s 2ms/step - loss: 584.2033\n",
      "Epoch 33/50\n",
      "94/94 [==============================] - 0s 2ms/step - loss: 619.1795\n",
      "Epoch 34/50\n",
      "94/94 [==============================] - 0s 2ms/step - loss: 544.0024\n",
      "Epoch 35/50\n",
      "94/94 [==============================] - 0s 1ms/step - loss: 598.3332\n",
      "Epoch 36/50\n",
      "94/94 [==============================] - 0s 1ms/step - loss: 501.5824\n",
      "Epoch 37/50\n",
      "94/94 [==============================] - 0s 2ms/step - loss: 647.9813\n",
      "Epoch 38/50\n",
      "94/94 [==============================] - 0s 2ms/step - loss: 575.1195\n",
      "Epoch 39/50\n",
      "94/94 [==============================] - 0s 1ms/step - loss: 552.3825\n",
      "Epoch 40/50\n",
      "94/94 [==============================] - 0s 1ms/step - loss: 538.8949\n",
      "Epoch 41/50\n",
      "94/94 [==============================] - 0s 1ms/step - loss: 563.1037\n",
      "Epoch 42/50\n",
      "94/94 [==============================] - 0s 1ms/step - loss: 557.8829\n",
      "Epoch 43/50\n",
      "94/94 [==============================] - 0s 1ms/step - loss: 562.5961\n",
      "Epoch 44/50\n",
      "94/94 [==============================] - 0s 1ms/step - loss: 560.6063\n",
      "Epoch 45/50\n",
      "94/94 [==============================] - 0s 1ms/step - loss: 554.1657\n",
      "Epoch 46/50\n",
      "94/94 [==============================] - 0s 2ms/step - loss: 578.7310\n",
      "Epoch 47/50\n",
      "94/94 [==============================] - 0s 1ms/step - loss: 560.4538\n",
      "Epoch 48/50\n",
      "94/94 [==============================] - 0s 1ms/step - loss: 535.8912\n",
      "Epoch 49/50\n",
      "94/94 [==============================] - 0s 1ms/step - loss: 558.7966\n",
      "Epoch 50/50\n",
      "94/94 [==============================] - 0s 2ms/step - loss: 532.3136\n",
      "46/46 [==============================] - 0s 327us/step\n",
      "\n",
      "Test mse: 2274.49811056\n",
      "Test rmse: 47.69169854978808\n"
     ]
    }
   ],
   "source": [
    "num_layers = 2\n",
    "num_neurons = [8,8]\n",
    "n_epochs = 50\n",
    "batch_size = 2\n",
    "\n",
    "model = Sequential()\n",
    "model.add(Dense(num_neurons[0], activation='relu', input_shape=(n_x,)))\n",
    "model.add(Dense(num_neurons[1], activation='relu'))\n",
    "model.add(Dense(units=1))\n",
    "model.summary()\n",
    "\n",
    "model.compile(loss='mse', optimizer='adam')\n",
    "\n",
    "model.fit(X_train, Y_train,\n",
    "                    batch_size=batch_size,\n",
    "                    epochs=n_epochs)\n",
    "\n",
    "score = model.evaluate(X_test, Y_test)\n",
    "print('\\nTest mse:', score)\n",
    "print('Test rmse:', math.sqrt(score))"
   ]
  },
  {
   "cell_type": "code",
   "execution_count": 24,
   "metadata": {},
   "outputs": [
    {
     "data": {
      "image/png": "[encoded data removed]",
      "text/plain": [
       "<matplotlib.figure.Figure at 0x7fba323a1668>"
      ]
     },
     "metadata": {},
     "output_type": "display_data"
    }
   ],
   "source": [
    "# make predictions\n",
    "Y_train_pred = model.predict(X_train)\n",
    "Y_test_pred = model.predict(X_test)\n",
    "\n",
    "# shift train predictions for plotting\n",
    "Y_train_pred_plot = np.empty_like(dataset)\n",
    "Y_train_pred_plot[:, :] = np.nan\n",
    "Y_train_pred_plot[n_x-1:len(Y_train_pred)+n_x-1, :] = Y_train_pred\n",
    "\n",
    "# shift test predictions for plotting\n",
    "Y_test_pred_plot = np.empty_like(dataset)\n",
    "Y_test_pred_plot[:, :] = np.nan\n",
    "Y_test_pred_plot[len(Y_train_pred)+(n_x*2)-1:len(dataset)-1, :] = Y_test_pred\n",
    "\n",
    "# plot baseline and predictions\n",
    "plt.plot(dataset,label='Original Data')\n",
    "plt.plot(Y_train_pred_plot,label='Y_train_pred')\n",
    "plt.plot(Y_test_pred_plot,label='Y_test_pred')\n",
    "plt.legend()\n",
    "plt.show()"
   ]
  }
 ],
 "metadata": {
  "kernelspec": {
   "display_name": "Python 3",
   "language": "python",
   "name": "python3"
  },
  "language_info": {
   "codemirror_mode": {
    "name": "ipython",
    "version": 3
   },
   "file_extension": ".py",
   "mimetype": "text/x-python",
   "name": "python",
   "nbconvert_exporter": "python",
   "pygments_lexer": "ipython3",
   "version": "3.5.2"
  },
  "toc": {
   "nav_menu": {},
   "number_sections": true,
   "sideBar": true,
   "skip_h1_title": false,
   "toc_cell": true,
   "toc_position": {},
   "toc_section_display": "block",
   "toc_window_display": true
  }
 },
 "nbformat": 4,
 "nbformat_minor": 2
}
